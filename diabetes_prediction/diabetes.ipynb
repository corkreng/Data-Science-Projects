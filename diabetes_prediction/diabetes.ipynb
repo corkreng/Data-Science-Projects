{
 "cells": [
  {
   "cell_type": "markdown",
   "metadata": {},
   "source": [
    "# Diabetes Prediction\n",
    "\n",
    "## Table of Contents\n",
    "1. [Introduction](#introduction)\n",
    "3. [Exploratory Data Analysis](#exploratory-data-analysis)\n",
    "4. [Logistic Regression Models](#LogisticRegression)\n",
    "5. [Decision Tree](#DecisionTree)\n",
    "6. [XGBoosting](#XGBoosting)\n",
    "7. [Random Forest](#RandForest)\n",
    "8. [Deep Neural Network](#DNN)\n",
    "9. [Stacking Model](#Stack1)\n",
    "10. [Robustness](#Overfitting)\n",
    "11. [Test set Results](#Results)\n",
    "12. [Conclusion](#Conclusion)"
   ]
  },
  {
   "cell_type": "markdown",
   "metadata": {},
   "source": [
    "## Introduction\n"
   ]
  },
  {
   "cell_type": "code",
   "execution_count": 1,
   "metadata": {},
   "outputs": [
    {
     "data": {
      "text/html": [
       "<div>\n",
       "<style scoped>\n",
       "    .dataframe tbody tr th:only-of-type {\n",
       "        vertical-align: middle;\n",
       "    }\n",
       "\n",
       "    .dataframe tbody tr th {\n",
       "        vertical-align: top;\n",
       "    }\n",
       "\n",
       "    .dataframe thead th {\n",
       "        text-align: right;\n",
       "    }\n",
       "</style>\n",
       "<table border=\"1\" class=\"dataframe\">\n",
       "  <thead>\n",
       "    <tr style=\"text-align: right;\">\n",
       "      <th></th>\n",
       "      <th>Diabetes_012</th>\n",
       "      <th>HighBP</th>\n",
       "      <th>HighChol</th>\n",
       "      <th>CholCheck</th>\n",
       "      <th>BMI</th>\n",
       "      <th>Smoker</th>\n",
       "      <th>Stroke</th>\n",
       "      <th>HeartDiseaseorAttack</th>\n",
       "      <th>PhysActivity</th>\n",
       "      <th>Fruits</th>\n",
       "      <th>...</th>\n",
       "      <th>AnyHealthcare</th>\n",
       "      <th>NoDocbcCost</th>\n",
       "      <th>GenHlth</th>\n",
       "      <th>MentHlth</th>\n",
       "      <th>PhysHlth</th>\n",
       "      <th>DiffWalk</th>\n",
       "      <th>Sex</th>\n",
       "      <th>Age</th>\n",
       "      <th>Education</th>\n",
       "      <th>Income</th>\n",
       "    </tr>\n",
       "  </thead>\n",
       "  <tbody>\n",
       "    <tr>\n",
       "      <th>0</th>\n",
       "      <td>0.0</td>\n",
       "      <td>1.0</td>\n",
       "      <td>1.0</td>\n",
       "      <td>1.0</td>\n",
       "      <td>40.0</td>\n",
       "      <td>1.0</td>\n",
       "      <td>0.0</td>\n",
       "      <td>0.0</td>\n",
       "      <td>0.0</td>\n",
       "      <td>0.0</td>\n",
       "      <td>...</td>\n",
       "      <td>1.0</td>\n",
       "      <td>0.0</td>\n",
       "      <td>5.0</td>\n",
       "      <td>18.0</td>\n",
       "      <td>15.0</td>\n",
       "      <td>1.0</td>\n",
       "      <td>0.0</td>\n",
       "      <td>9.0</td>\n",
       "      <td>4.0</td>\n",
       "      <td>3.0</td>\n",
       "    </tr>\n",
       "    <tr>\n",
       "      <th>1</th>\n",
       "      <td>0.0</td>\n",
       "      <td>0.0</td>\n",
       "      <td>0.0</td>\n",
       "      <td>0.0</td>\n",
       "      <td>25.0</td>\n",
       "      <td>1.0</td>\n",
       "      <td>0.0</td>\n",
       "      <td>0.0</td>\n",
       "      <td>1.0</td>\n",
       "      <td>0.0</td>\n",
       "      <td>...</td>\n",
       "      <td>0.0</td>\n",
       "      <td>1.0</td>\n",
       "      <td>3.0</td>\n",
       "      <td>0.0</td>\n",
       "      <td>0.0</td>\n",
       "      <td>0.0</td>\n",
       "      <td>0.0</td>\n",
       "      <td>7.0</td>\n",
       "      <td>6.0</td>\n",
       "      <td>1.0</td>\n",
       "    </tr>\n",
       "    <tr>\n",
       "      <th>2</th>\n",
       "      <td>0.0</td>\n",
       "      <td>1.0</td>\n",
       "      <td>1.0</td>\n",
       "      <td>1.0</td>\n",
       "      <td>28.0</td>\n",
       "      <td>0.0</td>\n",
       "      <td>0.0</td>\n",
       "      <td>0.0</td>\n",
       "      <td>0.0</td>\n",
       "      <td>1.0</td>\n",
       "      <td>...</td>\n",
       "      <td>1.0</td>\n",
       "      <td>1.0</td>\n",
       "      <td>5.0</td>\n",
       "      <td>30.0</td>\n",
       "      <td>30.0</td>\n",
       "      <td>1.0</td>\n",
       "      <td>0.0</td>\n",
       "      <td>9.0</td>\n",
       "      <td>4.0</td>\n",
       "      <td>8.0</td>\n",
       "    </tr>\n",
       "    <tr>\n",
       "      <th>3</th>\n",
       "      <td>0.0</td>\n",
       "      <td>1.0</td>\n",
       "      <td>0.0</td>\n",
       "      <td>1.0</td>\n",
       "      <td>27.0</td>\n",
       "      <td>0.0</td>\n",
       "      <td>0.0</td>\n",
       "      <td>0.0</td>\n",
       "      <td>1.0</td>\n",
       "      <td>1.0</td>\n",
       "      <td>...</td>\n",
       "      <td>1.0</td>\n",
       "      <td>0.0</td>\n",
       "      <td>2.0</td>\n",
       "      <td>0.0</td>\n",
       "      <td>0.0</td>\n",
       "      <td>0.0</td>\n",
       "      <td>0.0</td>\n",
       "      <td>11.0</td>\n",
       "      <td>3.0</td>\n",
       "      <td>6.0</td>\n",
       "    </tr>\n",
       "    <tr>\n",
       "      <th>4</th>\n",
       "      <td>0.0</td>\n",
       "      <td>1.0</td>\n",
       "      <td>1.0</td>\n",
       "      <td>1.0</td>\n",
       "      <td>24.0</td>\n",
       "      <td>0.0</td>\n",
       "      <td>0.0</td>\n",
       "      <td>0.0</td>\n",
       "      <td>1.0</td>\n",
       "      <td>1.0</td>\n",
       "      <td>...</td>\n",
       "      <td>1.0</td>\n",
       "      <td>0.0</td>\n",
       "      <td>2.0</td>\n",
       "      <td>3.0</td>\n",
       "      <td>0.0</td>\n",
       "      <td>0.0</td>\n",
       "      <td>0.0</td>\n",
       "      <td>11.0</td>\n",
       "      <td>5.0</td>\n",
       "      <td>4.0</td>\n",
       "    </tr>\n",
       "  </tbody>\n",
       "</table>\n",
       "<p>5 rows × 22 columns</p>\n",
       "</div>"
      ],
      "text/plain": [
       "   Diabetes_012  HighBP  HighChol  CholCheck   BMI  Smoker  Stroke  \\\n",
       "0           0.0     1.0       1.0        1.0  40.0     1.0     0.0   \n",
       "1           0.0     0.0       0.0        0.0  25.0     1.0     0.0   \n",
       "2           0.0     1.0       1.0        1.0  28.0     0.0     0.0   \n",
       "3           0.0     1.0       0.0        1.0  27.0     0.0     0.0   \n",
       "4           0.0     1.0       1.0        1.0  24.0     0.0     0.0   \n",
       "\n",
       "   HeartDiseaseorAttack  PhysActivity  Fruits  ...  AnyHealthcare  \\\n",
       "0                   0.0           0.0     0.0  ...            1.0   \n",
       "1                   0.0           1.0     0.0  ...            0.0   \n",
       "2                   0.0           0.0     1.0  ...            1.0   \n",
       "3                   0.0           1.0     1.0  ...            1.0   \n",
       "4                   0.0           1.0     1.0  ...            1.0   \n",
       "\n",
       "   NoDocbcCost  GenHlth  MentHlth  PhysHlth  DiffWalk  Sex   Age  Education  \\\n",
       "0          0.0      5.0      18.0      15.0       1.0  0.0   9.0        4.0   \n",
       "1          1.0      3.0       0.0       0.0       0.0  0.0   7.0        6.0   \n",
       "2          1.0      5.0      30.0      30.0       1.0  0.0   9.0        4.0   \n",
       "3          0.0      2.0       0.0       0.0       0.0  0.0  11.0        3.0   \n",
       "4          0.0      2.0       3.0       0.0       0.0  0.0  11.0        5.0   \n",
       "\n",
       "   Income  \n",
       "0     3.0  \n",
       "1     1.0  \n",
       "2     8.0  \n",
       "3     6.0  \n",
       "4     4.0  \n",
       "\n",
       "[5 rows x 22 columns]"
      ]
     },
     "execution_count": 1,
     "metadata": {},
     "output_type": "execute_result"
    }
   ],
   "source": [
    "import pandas as pd\n",
    "import seaborn \n",
    "import warnings\n",
    "warnings.filterwarnings('ignore')\n",
    "\n",
    "# https://www.kaggle.com/datasets/alexteboul/diabetes-health-indicat\n",
    "# dataset ^^^\n",
    "data = pd.read_csv(\"diabetes_012.csv\", header=0)\n",
    "data.head()"
   ]
  },
  {
   "cell_type": "markdown",
   "metadata": {},
   "source": [
    "## exploratory-data-analysis"
   ]
  },
  {
   "cell_type": "code",
   "execution_count": 2,
   "metadata": {},
   "outputs": [
    {
     "data": {
      "text/html": [
       "<div>\n",
       "<style scoped>\n",
       "    .dataframe tbody tr th:only-of-type {\n",
       "        vertical-align: middle;\n",
       "    }\n",
       "\n",
       "    .dataframe tbody tr th {\n",
       "        vertical-align: top;\n",
       "    }\n",
       "\n",
       "    .dataframe thead th {\n",
       "        text-align: right;\n",
       "    }\n",
       "</style>\n",
       "<table border=\"1\" class=\"dataframe\">\n",
       "  <thead>\n",
       "    <tr style=\"text-align: right;\">\n",
       "      <th></th>\n",
       "      <th>HighBP</th>\n",
       "      <th>HighChol</th>\n",
       "      <th>CholCheck</th>\n",
       "      <th>BMI</th>\n",
       "      <th>Smoker</th>\n",
       "      <th>Stroke</th>\n",
       "      <th>HeartDiseaseorAttack</th>\n",
       "      <th>PhysActivity</th>\n",
       "      <th>Fruits</th>\n",
       "      <th>Veggies</th>\n",
       "      <th>...</th>\n",
       "      <th>AnyHealthcare</th>\n",
       "      <th>NoDocbcCost</th>\n",
       "      <th>GenHlth</th>\n",
       "      <th>MentHlth</th>\n",
       "      <th>PhysHlth</th>\n",
       "      <th>DiffWalk</th>\n",
       "      <th>Sex</th>\n",
       "      <th>Age</th>\n",
       "      <th>Education</th>\n",
       "      <th>Income</th>\n",
       "    </tr>\n",
       "    <tr>\n",
       "      <th>Diabetes_012</th>\n",
       "      <th></th>\n",
       "      <th></th>\n",
       "      <th></th>\n",
       "      <th></th>\n",
       "      <th></th>\n",
       "      <th></th>\n",
       "      <th></th>\n",
       "      <th></th>\n",
       "      <th></th>\n",
       "      <th></th>\n",
       "      <th></th>\n",
       "      <th></th>\n",
       "      <th></th>\n",
       "      <th></th>\n",
       "      <th></th>\n",
       "      <th></th>\n",
       "      <th></th>\n",
       "      <th></th>\n",
       "      <th></th>\n",
       "      <th></th>\n",
       "      <th></th>\n",
       "    </tr>\n",
       "  </thead>\n",
       "  <tbody>\n",
       "    <tr>\n",
       "      <th>0.0</th>\n",
       "      <td>213703</td>\n",
       "      <td>213703</td>\n",
       "      <td>213703</td>\n",
       "      <td>213703</td>\n",
       "      <td>213703</td>\n",
       "      <td>213703</td>\n",
       "      <td>213703</td>\n",
       "      <td>213703</td>\n",
       "      <td>213703</td>\n",
       "      <td>213703</td>\n",
       "      <td>...</td>\n",
       "      <td>213703</td>\n",
       "      <td>213703</td>\n",
       "      <td>213703</td>\n",
       "      <td>213703</td>\n",
       "      <td>213703</td>\n",
       "      <td>213703</td>\n",
       "      <td>213703</td>\n",
       "      <td>213703</td>\n",
       "      <td>213703</td>\n",
       "      <td>213703</td>\n",
       "    </tr>\n",
       "    <tr>\n",
       "      <th>1.0</th>\n",
       "      <td>4631</td>\n",
       "      <td>4631</td>\n",
       "      <td>4631</td>\n",
       "      <td>4631</td>\n",
       "      <td>4631</td>\n",
       "      <td>4631</td>\n",
       "      <td>4631</td>\n",
       "      <td>4631</td>\n",
       "      <td>4631</td>\n",
       "      <td>4631</td>\n",
       "      <td>...</td>\n",
       "      <td>4631</td>\n",
       "      <td>4631</td>\n",
       "      <td>4631</td>\n",
       "      <td>4631</td>\n",
       "      <td>4631</td>\n",
       "      <td>4631</td>\n",
       "      <td>4631</td>\n",
       "      <td>4631</td>\n",
       "      <td>4631</td>\n",
       "      <td>4631</td>\n",
       "    </tr>\n",
       "    <tr>\n",
       "      <th>2.0</th>\n",
       "      <td>35346</td>\n",
       "      <td>35346</td>\n",
       "      <td>35346</td>\n",
       "      <td>35346</td>\n",
       "      <td>35346</td>\n",
       "      <td>35346</td>\n",
       "      <td>35346</td>\n",
       "      <td>35346</td>\n",
       "      <td>35346</td>\n",
       "      <td>35346</td>\n",
       "      <td>...</td>\n",
       "      <td>35346</td>\n",
       "      <td>35346</td>\n",
       "      <td>35346</td>\n",
       "      <td>35346</td>\n",
       "      <td>35346</td>\n",
       "      <td>35346</td>\n",
       "      <td>35346</td>\n",
       "      <td>35346</td>\n",
       "      <td>35346</td>\n",
       "      <td>35346</td>\n",
       "    </tr>\n",
       "  </tbody>\n",
       "</table>\n",
       "<p>3 rows × 21 columns</p>\n",
       "</div>"
      ],
      "text/plain": [
       "              HighBP  HighChol  CholCheck     BMI  Smoker  Stroke  \\\n",
       "Diabetes_012                                                        \n",
       "0.0           213703    213703     213703  213703  213703  213703   \n",
       "1.0             4631      4631       4631    4631    4631    4631   \n",
       "2.0            35346     35346      35346   35346   35346   35346   \n",
       "\n",
       "              HeartDiseaseorAttack  PhysActivity  Fruits  Veggies  ...  \\\n",
       "Diabetes_012                                                       ...   \n",
       "0.0                         213703        213703  213703   213703  ...   \n",
       "1.0                           4631          4631    4631     4631  ...   \n",
       "2.0                          35346         35346   35346    35346  ...   \n",
       "\n",
       "              AnyHealthcare  NoDocbcCost  GenHlth  MentHlth  PhysHlth  \\\n",
       "Diabetes_012                                                            \n",
       "0.0                  213703       213703   213703    213703    213703   \n",
       "1.0                    4631         4631     4631      4631      4631   \n",
       "2.0                   35346        35346    35346     35346     35346   \n",
       "\n",
       "              DiffWalk     Sex     Age  Education  Income  \n",
       "Diabetes_012                                               \n",
       "0.0             213703  213703  213703     213703  213703  \n",
       "1.0               4631    4631    4631       4631    4631  \n",
       "2.0              35346   35346   35346      35346   35346  \n",
       "\n",
       "[3 rows x 21 columns]"
      ]
     },
     "execution_count": 2,
     "metadata": {},
     "output_type": "execute_result"
    },
    {
     "data": {
      "image/png": "[encoded data removed]",
      "text/plain": [
       "<Figure size 640x480 with 2 Axes>"
      ]
     },
     "metadata": {},
     "output_type": "display_data"
    }
   ],
   "source": [
    "#filtered out prediabetes\n",
    "#diabetes= data.query('Diabetes_012 == 0 or Diabetes_012 ==2')\n",
    "seaborn.heatmap(data.corr(numeric_only=True))\n",
    "seaborn.histplot(data=data, x= data.Diabetes_012)\n",
    "\n",
    "data.groupby(['Diabetes_012']).count()"
   ]
  },
  {
   "cell_type": "code",
   "execution_count": null,
   "metadata": {},
   "outputs": [],
   "source": []
  },
  {
   "cell_type": "code",
   "execution_count": null,
   "metadata": {},
   "outputs": [
    {
     "data": {
      "text/plain": [
       "<Axes: xlabel='Diabetes_012', ylabel='Count'>"
      ]
     },
     "execution_count": 3,
     "metadata": {},
     "output_type": "execute_result"
    },
    {
     "data": {
      "image/png": "[encoded data removed]",
      "text/plain": [
       "<Figure size 640x480 with 1 Axes>"
      ]
     },
     "metadata": {},
     "output_type": "display_data"
    }
   ],
   "source": [
    "seaborn.histplot(data=data, x= data.Diabetes_012)\n",
    "import pandas as pd\n",
    "import matplotlib.pyplot as plt\n"
   ]
  },
  {
   "cell_type": "markdown",
   "metadata": {},
   "source": [
    "13.9% of the respondents in the survey have diabetes, 1.8% have prediabetes, and 84.2% do not have diabetes. Our benchmark for accuracy will be 84.2% since a naive model of predicting no one has diabetes will be at that accuracy. "
   ]
  },
  {
   "cell_type": "code",
   "execution_count": 5,
   "metadata": {},
   "outputs": [
    {
     "data": {
      "text/html": [
       "<div>\n",
       "<style scoped>\n",
       "    .dataframe tbody tr th:only-of-type {\n",
       "        vertical-align: middle;\n",
       "    }\n",
       "\n",
       "    .dataframe tbody tr th {\n",
       "        vertical-align: top;\n",
       "    }\n",
       "\n",
       "    .dataframe thead th {\n",
       "        text-align: right;\n",
       "    }\n",
       "</style>\n",
       "<table border=\"1\" class=\"dataframe\">\n",
       "  <thead>\n",
       "    <tr style=\"text-align: right;\">\n",
       "      <th></th>\n",
       "      <th>Diabetes_012</th>\n",
       "      <th>HighBP</th>\n",
       "      <th>HighChol</th>\n",
       "      <th>CholCheck</th>\n",
       "      <th>BMI</th>\n",
       "      <th>Smoker</th>\n",
       "      <th>Stroke</th>\n",
       "      <th>HeartDiseaseorAttack</th>\n",
       "      <th>PhysActivity</th>\n",
       "      <th>Fruits</th>\n",
       "      <th>...</th>\n",
       "      <th>AnyHealthcare</th>\n",
       "      <th>NoDocbcCost</th>\n",
       "      <th>GenHlth</th>\n",
       "      <th>MentHlth</th>\n",
       "      <th>PhysHlth</th>\n",
       "      <th>DiffWalk</th>\n",
       "      <th>Sex</th>\n",
       "      <th>Age</th>\n",
       "      <th>Education</th>\n",
       "      <th>Income</th>\n",
       "    </tr>\n",
       "  </thead>\n",
       "  <tbody>\n",
       "    <tr>\n",
       "      <th>0</th>\n",
       "      <td>0.0</td>\n",
       "      <td>1.0</td>\n",
       "      <td>1.0</td>\n",
       "      <td>1.0</td>\n",
       "      <td>40.0</td>\n",
       "      <td>1.0</td>\n",
       "      <td>0.0</td>\n",
       "      <td>0.0</td>\n",
       "      <td>0.0</td>\n",
       "      <td>0.0</td>\n",
       "      <td>...</td>\n",
       "      <td>1.0</td>\n",
       "      <td>0.0</td>\n",
       "      <td>5.0</td>\n",
       "      <td>18.0</td>\n",
       "      <td>15.0</td>\n",
       "      <td>1.0</td>\n",
       "      <td>0.0</td>\n",
       "      <td>9.0</td>\n",
       "      <td>4.0</td>\n",
       "      <td>3.0</td>\n",
       "    </tr>\n",
       "    <tr>\n",
       "      <th>1</th>\n",
       "      <td>0.0</td>\n",
       "      <td>0.0</td>\n",
       "      <td>0.0</td>\n",
       "      <td>0.0</td>\n",
       "      <td>25.0</td>\n",
       "      <td>1.0</td>\n",
       "      <td>0.0</td>\n",
       "      <td>0.0</td>\n",
       "      <td>1.0</td>\n",
       "      <td>0.0</td>\n",
       "      <td>...</td>\n",
       "      <td>0.0</td>\n",
       "      <td>1.0</td>\n",
       "      <td>3.0</td>\n",
       "      <td>0.0</td>\n",
       "      <td>0.0</td>\n",
       "      <td>0.0</td>\n",
       "      <td>0.0</td>\n",
       "      <td>7.0</td>\n",
       "      <td>6.0</td>\n",
       "      <td>1.0</td>\n",
       "    </tr>\n",
       "    <tr>\n",
       "      <th>2</th>\n",
       "      <td>0.0</td>\n",
       "      <td>1.0</td>\n",
       "      <td>1.0</td>\n",
       "      <td>1.0</td>\n",
       "      <td>28.0</td>\n",
       "      <td>0.0</td>\n",
       "      <td>0.0</td>\n",
       "      <td>0.0</td>\n",
       "      <td>0.0</td>\n",
       "      <td>1.0</td>\n",
       "      <td>...</td>\n",
       "      <td>1.0</td>\n",
       "      <td>1.0</td>\n",
       "      <td>5.0</td>\n",
       "      <td>30.0</td>\n",
       "      <td>30.0</td>\n",
       "      <td>1.0</td>\n",
       "      <td>0.0</td>\n",
       "      <td>9.0</td>\n",
       "      <td>4.0</td>\n",
       "      <td>8.0</td>\n",
       "    </tr>\n",
       "    <tr>\n",
       "      <th>3</th>\n",
       "      <td>0.0</td>\n",
       "      <td>1.0</td>\n",
       "      <td>0.0</td>\n",
       "      <td>1.0</td>\n",
       "      <td>27.0</td>\n",
       "      <td>0.0</td>\n",
       "      <td>0.0</td>\n",
       "      <td>0.0</td>\n",
       "      <td>1.0</td>\n",
       "      <td>1.0</td>\n",
       "      <td>...</td>\n",
       "      <td>1.0</td>\n",
       "      <td>0.0</td>\n",
       "      <td>2.0</td>\n",
       "      <td>0.0</td>\n",
       "      <td>0.0</td>\n",
       "      <td>0.0</td>\n",
       "      <td>0.0</td>\n",
       "      <td>11.0</td>\n",
       "      <td>3.0</td>\n",
       "      <td>6.0</td>\n",
       "    </tr>\n",
       "    <tr>\n",
       "      <th>4</th>\n",
       "      <td>0.0</td>\n",
       "      <td>1.0</td>\n",
       "      <td>1.0</td>\n",
       "      <td>1.0</td>\n",
       "      <td>24.0</td>\n",
       "      <td>0.0</td>\n",
       "      <td>0.0</td>\n",
       "      <td>0.0</td>\n",
       "      <td>1.0</td>\n",
       "      <td>1.0</td>\n",
       "      <td>...</td>\n",
       "      <td>1.0</td>\n",
       "      <td>0.0</td>\n",
       "      <td>2.0</td>\n",
       "      <td>3.0</td>\n",
       "      <td>0.0</td>\n",
       "      <td>0.0</td>\n",
       "      <td>0.0</td>\n",
       "      <td>11.0</td>\n",
       "      <td>5.0</td>\n",
       "      <td>4.0</td>\n",
       "    </tr>\n",
       "  </tbody>\n",
       "</table>\n",
       "<p>5 rows × 22 columns</p>\n",
       "</div>"
      ],
      "text/plain": [
       "   Diabetes_012  HighBP  HighChol  CholCheck   BMI  Smoker  Stroke  \\\n",
       "0           0.0     1.0       1.0        1.0  40.0     1.0     0.0   \n",
       "1           0.0     0.0       0.0        0.0  25.0     1.0     0.0   \n",
       "2           0.0     1.0       1.0        1.0  28.0     0.0     0.0   \n",
       "3           0.0     1.0       0.0        1.0  27.0     0.0     0.0   \n",
       "4           0.0     1.0       1.0        1.0  24.0     0.0     0.0   \n",
       "\n",
       "   HeartDiseaseorAttack  PhysActivity  Fruits  ...  AnyHealthcare  \\\n",
       "0                   0.0           0.0     0.0  ...            1.0   \n",
       "1                   0.0           1.0     0.0  ...            0.0   \n",
       "2                   0.0           0.0     1.0  ...            1.0   \n",
       "3                   0.0           1.0     1.0  ...            1.0   \n",
       "4                   0.0           1.0     1.0  ...            1.0   \n",
       "\n",
       "   NoDocbcCost  GenHlth  MentHlth  PhysHlth  DiffWalk  Sex   Age  Education  \\\n",
       "0          0.0      5.0      18.0      15.0       1.0  0.0   9.0        4.0   \n",
       "1          1.0      3.0       0.0       0.0       0.0  0.0   7.0        6.0   \n",
       "2          1.0      5.0      30.0      30.0       1.0  0.0   9.0        4.0   \n",
       "3          0.0      2.0       0.0       0.0       0.0  0.0  11.0        3.0   \n",
       "4          0.0      2.0       3.0       0.0       0.0  0.0  11.0        5.0   \n",
       "\n",
       "   Income  \n",
       "0     3.0  \n",
       "1     1.0  \n",
       "2     8.0  \n",
       "3     6.0  \n",
       "4     4.0  \n",
       "\n",
       "[5 rows x 22 columns]"
      ]
     },
     "execution_count": 5,
     "metadata": {},
     "output_type": "execute_result"
    }
   ],
   "source": [
    "data.head()"
   ]
  },
  {
   "cell_type": "code",
   "execution_count": 10,
   "metadata": {},
   "outputs": [
    {
     "data": {
      "image/png": "[encoded data removed]",
      "text/plain": [
       "<Figure size 640x480 with 1 Axes>"
      ]
     },
     "metadata": {},
     "output_type": "display_data"
    }
   ],
   "source": [
    "\n",
    "counts = data.groupby(['BMI', 'Diabetes_012']).size().unstack(fill_value=0)\n",
    "\n",
    "counts.plot(kind='bar', stacked=True, colormap='viridis')\n",
    "\n",
    "# Labels and title\n",
    "plt.xlabel(\"Nominal Variable\")\n",
    "plt.ylabel(\"Count\")\n",
    "plt.title(\"Stacked Bar Chart of Nominal Variable by Class\")\n",
    "plt.legend(title=\"Class\")\n",
    "plt.xticks(ticks=range(0, len(counts), 5), rotation=45)  # Show every 5th label\n",
    "plt.show()"
   ]
  },
  {
   "cell_type": "code",
   "execution_count": null,
   "metadata": {},
   "outputs": [
    {
     "data": {
      "image/png": "[encoded data removed]",
      "text/plain": [
       "<Figure size 640x480 with 1 Axes>"
      ]
     },
     "metadata": {},
     "output_type": "display_data"
    }
   ],
   "source": [
    "import pandas as pd\n",
    "import matplotlib.pyplot as plt\n",
    "\n",
    "\n",
    "counts = data.groupby(['GenHlth', 'Diabetes_012']).size().unstack(fill_value=0)\n",
    "\n",
    "counts.plot(kind='bar', stacked=True, colormap='viridis')\n",
    "\n",
    "# Labels and title\n",
    "plt.xlabel(\"Nominal Variable\")\n",
    "plt.ylabel(\"Count\")\n",
    "plt.title(\"Stacked Bar Chart of Nominal Variable by Class\")\n",
    "plt.legend(title=\"Class\")\n",
    "plt.xticks(rotation=0)  # Keep labels horizontal\n",
    "plt.show()\n"
   ]
  },
  {
   "cell_type": "code",
   "execution_count": 12,
   "metadata": {},
   "outputs": [
    {
     "data": {
      "image/png": "[encoded data removed]",
      "text/plain": [
       "<Figure size 640x480 with 1 Axes>"
      ]
     },
     "metadata": {},
     "output_type": "display_data"
    }
   ],
   "source": [
    "\n",
    "counts = data.groupby(['MentHlth', 'Diabetes_012']).size().unstack(fill_value=0)\n",
    "\n",
    "counts.plot(kind='bar', stacked=True, colormap='viridis')\n",
    "\n",
    "# Labels and title\n",
    "plt.xlabel(\"Nominal Variable\")\n",
    "plt.ylabel(\"Count\")\n",
    "plt.title(\"Stacked Bar Chart of Nominal Variable by Class\")\n",
    "plt.legend(title=\"Class\")\n",
    "plt.xticks(rotation=90)  # Keep labels horizontal\n",
    "plt.show()"
   ]
  },
  {
   "cell_type": "code",
   "execution_count": 14,
   "metadata": {},
   "outputs": [
    {
     "data": {
      "image/png": "[encoded data removed]",
      "text/plain": [
       "<Figure size 640x480 with 1 Axes>"
      ]
     },
     "metadata": {},
     "output_type": "display_data"
    }
   ],
   "source": [
    "\n",
    "counts = data.groupby(['PhysHlth', 'Diabetes_012']).size().unstack(fill_value=0)\n",
    "\n",
    "counts.plot(kind='bar', stacked=True, colormap='viridis')\n",
    "\n",
    "# Labels and title\n",
    "plt.xlabel(\"Nominal Variable\")\n",
    "plt.ylabel(\"Count\")\n",
    "plt.title(\"Stacked Bar Chart of Nominal Variable by Class\")\n",
    "plt.legend(title=\"Class\")\n",
    "plt.xticks( rotation=90)  # Show every 5th label\n",
    "plt.show()"
   ]
  },
  {
   "cell_type": "code",
   "execution_count": null,
   "metadata": {},
   "outputs": [],
   "source": []
  },
  {
   "cell_type": "code",
   "execution_count": 4,
   "metadata": {},
   "outputs": [
    {
     "data": {
      "text/plain": [
       "0.45691950252819163"
      ]
     },
     "execution_count": 4,
     "metadata": {},
     "output_type": "execute_result"
    }
   ],
   "source": [
    "data['PhysHlth'].corr(data['GenHlth'])  #.52\n",
    "data['PhysHlth'].corr(data['DiffWalk']) #.478\n",
    "data['Education'].corr(data['Income']) #.448\n",
    "data['DiffWalk'].corr(data['GenHlth']) #.456"
   ]
  },
  {
   "cell_type": "markdown",
   "metadata": {},
   "source": [
    "## Correlation of variables\n",
    "    The variable listed above have the highest correlation with each other. The variance inflation factor will need to be checked when implementing the logistic regression model. For the rest of the models this correlation should be fine. "
   ]
  },
  {
   "cell_type": "code",
   "execution_count": 5,
   "metadata": {},
   "outputs": [
    {
     "data": {
      "text/plain": [
       "<Axes: xlabel='BMI', ylabel='Count'>"
      ]
     },
     "execution_count": 5,
     "metadata": {},
     "output_type": "execute_result"
    },
    {
     "data": {
      "image/png": "[encoded data removed]",
      "text/plain": [
       "<Figure size 640x480 with 1 Axes>"
      ]
     },
     "metadata": {},
     "output_type": "display_data"
    }
   ],
   "source": [
    "seaborn.histplot(data['BMI'])"
   ]
  },
  {
   "cell_type": "code",
   "execution_count": 15,
   "metadata": {},
   "outputs": [
    {
     "data": {
      "text/html": [
       "<div>\n",
       "<style scoped>\n",
       "    .dataframe tbody tr th:only-of-type {\n",
       "        vertical-align: middle;\n",
       "    }\n",
       "\n",
       "    .dataframe tbody tr th {\n",
       "        vertical-align: top;\n",
       "    }\n",
       "\n",
       "    .dataframe thead th {\n",
       "        text-align: right;\n",
       "    }\n",
       "</style>\n",
       "<table border=\"1\" class=\"dataframe\">\n",
       "  <thead>\n",
       "    <tr style=\"text-align: right;\">\n",
       "      <th></th>\n",
       "      <th>Diabetes_012</th>\n",
       "      <th>HighBP</th>\n",
       "      <th>HighChol</th>\n",
       "      <th>CholCheck</th>\n",
       "      <th>BMI</th>\n",
       "      <th>Smoker</th>\n",
       "      <th>Stroke</th>\n",
       "      <th>HeartDiseaseorAttack</th>\n",
       "      <th>PhysActivity</th>\n",
       "      <th>Fruits</th>\n",
       "      <th>...</th>\n",
       "      <th>AnyHealthcare</th>\n",
       "      <th>NoDocbcCost</th>\n",
       "      <th>GenHlth</th>\n",
       "      <th>DiffWalk</th>\n",
       "      <th>Sex</th>\n",
       "      <th>Age</th>\n",
       "      <th>Education</th>\n",
       "      <th>Income</th>\n",
       "      <th>MentBin</th>\n",
       "      <th>PhysBin</th>\n",
       "    </tr>\n",
       "  </thead>\n",
       "  <tbody>\n",
       "    <tr>\n",
       "      <th>0</th>\n",
       "      <td>0.0</td>\n",
       "      <td>1.0</td>\n",
       "      <td>1.0</td>\n",
       "      <td>1.0</td>\n",
       "      <td>40.0</td>\n",
       "      <td>1.0</td>\n",
       "      <td>0.0</td>\n",
       "      <td>0.0</td>\n",
       "      <td>0.0</td>\n",
       "      <td>0.0</td>\n",
       "      <td>...</td>\n",
       "      <td>1.0</td>\n",
       "      <td>0.0</td>\n",
       "      <td>5.0</td>\n",
       "      <td>1.0</td>\n",
       "      <td>0.0</td>\n",
       "      <td>9.0</td>\n",
       "      <td>4.0</td>\n",
       "      <td>3.0</td>\n",
       "      <td>2</td>\n",
       "      <td>2</td>\n",
       "    </tr>\n",
       "    <tr>\n",
       "      <th>1</th>\n",
       "      <td>0.0</td>\n",
       "      <td>0.0</td>\n",
       "      <td>0.0</td>\n",
       "      <td>0.0</td>\n",
       "      <td>25.0</td>\n",
       "      <td>1.0</td>\n",
       "      <td>0.0</td>\n",
       "      <td>0.0</td>\n",
       "      <td>1.0</td>\n",
       "      <td>0.0</td>\n",
       "      <td>...</td>\n",
       "      <td>0.0</td>\n",
       "      <td>1.0</td>\n",
       "      <td>3.0</td>\n",
       "      <td>0.0</td>\n",
       "      <td>0.0</td>\n",
       "      <td>7.0</td>\n",
       "      <td>6.0</td>\n",
       "      <td>1.0</td>\n",
       "      <td>0</td>\n",
       "      <td>0</td>\n",
       "    </tr>\n",
       "    <tr>\n",
       "      <th>2</th>\n",
       "      <td>0.0</td>\n",
       "      <td>1.0</td>\n",
       "      <td>1.0</td>\n",
       "      <td>1.0</td>\n",
       "      <td>28.0</td>\n",
       "      <td>0.0</td>\n",
       "      <td>0.0</td>\n",
       "      <td>0.0</td>\n",
       "      <td>0.0</td>\n",
       "      <td>1.0</td>\n",
       "      <td>...</td>\n",
       "      <td>1.0</td>\n",
       "      <td>1.0</td>\n",
       "      <td>5.0</td>\n",
       "      <td>1.0</td>\n",
       "      <td>0.0</td>\n",
       "      <td>9.0</td>\n",
       "      <td>4.0</td>\n",
       "      <td>8.0</td>\n",
       "      <td>2</td>\n",
       "      <td>2</td>\n",
       "    </tr>\n",
       "    <tr>\n",
       "      <th>3</th>\n",
       "      <td>0.0</td>\n",
       "      <td>1.0</td>\n",
       "      <td>0.0</td>\n",
       "      <td>1.0</td>\n",
       "      <td>27.0</td>\n",
       "      <td>0.0</td>\n",
       "      <td>0.0</td>\n",
       "      <td>0.0</td>\n",
       "      <td>1.0</td>\n",
       "      <td>1.0</td>\n",
       "      <td>...</td>\n",
       "      <td>1.0</td>\n",
       "      <td>0.0</td>\n",
       "      <td>2.0</td>\n",
       "      <td>0.0</td>\n",
       "      <td>0.0</td>\n",
       "      <td>11.0</td>\n",
       "      <td>3.0</td>\n",
       "      <td>6.0</td>\n",
       "      <td>0</td>\n",
       "      <td>0</td>\n",
       "    </tr>\n",
       "    <tr>\n",
       "      <th>4</th>\n",
       "      <td>0.0</td>\n",
       "      <td>1.0</td>\n",
       "      <td>1.0</td>\n",
       "      <td>1.0</td>\n",
       "      <td>24.0</td>\n",
       "      <td>0.0</td>\n",
       "      <td>0.0</td>\n",
       "      <td>0.0</td>\n",
       "      <td>1.0</td>\n",
       "      <td>1.0</td>\n",
       "      <td>...</td>\n",
       "      <td>1.0</td>\n",
       "      <td>0.0</td>\n",
       "      <td>2.0</td>\n",
       "      <td>0.0</td>\n",
       "      <td>0.0</td>\n",
       "      <td>11.0</td>\n",
       "      <td>5.0</td>\n",
       "      <td>4.0</td>\n",
       "      <td>0</td>\n",
       "      <td>0</td>\n",
       "    </tr>\n",
       "  </tbody>\n",
       "</table>\n",
       "<p>5 rows × 22 columns</p>\n",
       "</div>"
      ],
      "text/plain": [
       "   Diabetes_012  HighBP  HighChol  CholCheck   BMI  Smoker  Stroke  \\\n",
       "0           0.0     1.0       1.0        1.0  40.0     1.0     0.0   \n",
       "1           0.0     0.0       0.0        0.0  25.0     1.0     0.0   \n",
       "2           0.0     1.0       1.0        1.0  28.0     0.0     0.0   \n",
       "3           0.0     1.0       0.0        1.0  27.0     0.0     0.0   \n",
       "4           0.0     1.0       1.0        1.0  24.0     0.0     0.0   \n",
       "\n",
       "   HeartDiseaseorAttack  PhysActivity  Fruits  ...  AnyHealthcare  \\\n",
       "0                   0.0           0.0     0.0  ...            1.0   \n",
       "1                   0.0           1.0     0.0  ...            0.0   \n",
       "2                   0.0           0.0     1.0  ...            1.0   \n",
       "3                   0.0           1.0     1.0  ...            1.0   \n",
       "4                   0.0           1.0     1.0  ...            1.0   \n",
       "\n",
       "   NoDocbcCost  GenHlth  DiffWalk  Sex   Age  Education  Income  MentBin  \\\n",
       "0          0.0      5.0       1.0  0.0   9.0        4.0     3.0        2   \n",
       "1          1.0      3.0       0.0  0.0   7.0        6.0     1.0        0   \n",
       "2          1.0      5.0       1.0  0.0   9.0        4.0     8.0        2   \n",
       "3          0.0      2.0       0.0  0.0  11.0        3.0     6.0        0   \n",
       "4          0.0      2.0       0.0  0.0  11.0        5.0     4.0        0   \n",
       "\n",
       "   PhysBin  \n",
       "0        2  \n",
       "1        0  \n",
       "2        2  \n",
       "3        0  \n",
       "4        0  \n",
       "\n",
       "[5 rows x 22 columns]"
      ]
     },
     "execution_count": 15,
     "metadata": {},
     "output_type": "execute_result"
    }
   ],
   "source": [
    "# change mentHlth and physHlth to 3 categories (1-5, 5-14, 14+)\n",
    "\n",
    "# Custom binning\n",
    "bins = [-1, 5, 14, 32]\n",
    "labels = [0, 1, 2]\n",
    "data['MentBin'] = pd.cut(data['MentHlth'], bins=bins, labels=labels)\n",
    "labels = [0, 1, 2]\n",
    "data['PhysBin'] = pd.cut(data['PhysHlth'], bins=bins, labels=labels)\n",
    "data = data.drop(['MentHlth', 'PhysHlth'], axis=1)\n",
    "data.head()"
   ]
  },
  {
   "cell_type": "code",
   "execution_count": 21,
   "metadata": {},
   "outputs": [],
   "source": [
    "from sklearn.preprocessing import StandardScaler\n",
    "from sklearn.preprocessing import MinMaxScaler\n",
    "\n",
    "scaler = StandardScaler()\n",
    "data['BMI_standardized'] = scaler.fit_transform(data[['BMI']])\n",
    "scaler = MinMaxScaler()\n",
    "data['BMI_scaled'] = scaler.fit_transform(data[['BMI']])"
   ]
  },
  {
   "cell_type": "code",
   "execution_count": 22,
   "metadata": {},
   "outputs": [],
   "source": [
    "from sklearn.model_selection import train_test_split\n",
    "train, test = train_test_split(data, test_size=.3, random_state=1)\n",
    "\n",
    "y_train = train['Diabetes_012']\n",
    "y_test = test['Diabetes_012']\n",
    "\n",
    "x_train = train.loc[:, train.columns != 'Diabetes_012']\n",
    "x_test = test.loc[:, test.columns != 'Diabetes_012']"
   ]
  },
  {
   "cell_type": "code",
   "execution_count": 42,
   "metadata": {},
   "outputs": [
    {
     "name": "stdout",
     "output_type": "stream",
     "text": [
      "Class Distribution After Undersampling:\n",
      " Diabetes_012\n",
      "0.0    3283\n",
      "1.0    3283\n",
      "2.0    3283\n",
      "Name: count, dtype: int64\n"
     ]
    }
   ],
   "source": [
    "from imblearn.under_sampling import RandomUnderSampler\n",
    "\n",
    "# Example dataset (X = features, y = target variable with three classes)\n",
    " # Features\n",
    " # Target variable (with three classes)\n",
    "\n",
    "# Initialize the undersampler\n",
    "undersampler = RandomUnderSampler(sampling_strategy='auto', random_state=1)\n",
    "\n",
    "# Apply undersampling\n",
    "XU, yu = undersampler.fit_resample(x_train, y_train)\n",
    "\n",
    "# Convert back to DataFrame\n",
    "undersampled_data = pd.DataFrame(XU, columns=x_train.columns)\n",
    "undersampled_data['Diabetes_012'] = yu\n",
    "\n",
    "# Display class distribution after undersampling\n",
    "print(\"Class Distribution After Undersampling:\\n\", undersampled_data['Diabetes_012'].value_counts())\n"
   ]
  },
  {
   "cell_type": "code",
   "execution_count": 30,
   "metadata": {},
   "outputs": [
    {
     "data": {
      "text/plain": [
       "Diabetes_012\n",
       "0.0    149599\n",
       "1.0      3283\n",
       "2.0     24694\n",
       "Name: Diabetes_012, dtype: int64"
      ]
     },
     "execution_count": 30,
     "metadata": {},
     "output_type": "execute_result"
    }
   ],
   "source": [
    "y_train.groupby(y_train).count()\n"
   ]
  },
  {
   "cell_type": "code",
   "execution_count": 43,
   "metadata": {},
   "outputs": [],
   "source": [
    "from imblearn.over_sampling import SMOTE\n",
    "from imblearn.under_sampling import RandomUnderSampler\n",
    "from imblearn.combine import SMOTEENN\n",
    "\n",
    "# First, undersample majority class to a reasonable level (e.g., 20,000 per class)\n",
    "undersampler = RandomUnderSampler(sampling_strategy={0: 20000, 1: 3283, 2: 20000}, random_state=1)\n",
    "X_under, y_under = undersampler.fit_resample(x_train, y_train)\n",
    "\n",
    "# Then, apply SMOTE to increase the smallest class\n",
    "smote = SMOTE(sampling_strategy={2: 20000}, random_state=1)\n",
    "X_US, yus = smote.fit_resample(X_under, y_under)\n",
    "\n"
   ]
  },
  {
   "cell_type": "code",
   "execution_count": 114,
   "metadata": {},
   "outputs": [],
   "source": [
    " \n",
    "\n",
    "Evaluation = pd.DataFrame({\n",
    "    \"Model\":[],\n",
    "    \"Accuracy\":[],\n",
    "    \"nodiabetes_f1_score\":[],\n",
    "    \"prediabetes_f1_score\":[],\n",
    "    \"diabetes_f1_score\":[]\n",
    "\n",
    "})"
   ]
  },
  {
   "cell_type": "markdown",
   "metadata": {},
   "source": [
    "## LogisticRegression "
   ]
  },
  {
   "cell_type": "code",
   "execution_count": 45,
   "metadata": {},
   "outputs": [
    {
     "name": "stdout",
     "output_type": "stream",
     "text": [
      "                 Feature       VIF\n",
      "0                 HighBP  2.320915\n",
      "1               HighChol  2.035498\n",
      "2                 Smoker  1.930183\n",
      "3                 Stroke  1.125828\n",
      "4   HeartDiseaseorAttack  1.280262\n",
      "5           PhysActivity  4.324398\n",
      "6                 Fruits  3.005562\n",
      "7                Veggies  5.556049\n",
      "8      HvyAlcoholConsump  1.084047\n",
      "9            NoDocbcCost  1.174489\n",
      "10               GenHlth  8.369493\n",
      "11              DiffWalk  1.831407\n",
      "12                   Sex  1.895872\n",
      "13                   Age  8.607877\n",
      "14                Income  8.061111\n",
      "15               MentBin  1.388395\n",
      "16               PhysBin  1.883607\n",
      "17      BMI_standardized  1.139171\n"
     ]
    }
   ],
   "source": [
    "from statsmodels.stats.outliers_influence import variance_inflation_factor\n",
    "import statsmodels.api as sm\n",
    "\n",
    "X = x_train\n",
    "X = X.drop('Education', axis=1)\n",
    "X = X.drop('AnyHealthcare', axis=1)\n",
    "X = X.drop('CholCheck', axis=1)\n",
    "X = X.drop('BMI', axis=1)\n",
    "X = X.drop('BMI_scaled', axis=1) \n",
    "\n",
    "vif_data = pd.DataFrame()\n",
    "vif_data[\"Feature\"] = X.columns\n",
    "vif_data[\"VIF\"] = [variance_inflation_factor(X.values, i) for i in range(X.shape[1])]\n",
    "print(vif_data)\n",
    "\n",
    "XUl = XU\n",
    "XUl = XUl.drop('Education', axis=1)\n",
    "XUl = XUl.drop('AnyHealthcare', axis=1)\n",
    "XUl = XUl.drop('CholCheck', axis=1)\n",
    "XUl = XUl.drop('BMI', axis=1)\n",
    "XUl = XUl.drop('BMI_scaled', axis=1) \n",
    "\n",
    "XUSl = X_US\n",
    "XUSl = XUSl.drop('Education', axis=1)\n",
    "XUSl = XUSl.drop('AnyHealthcare', axis=1)\n",
    "XUSl = XUSl.drop('CholCheck', axis=1)\n",
    "XUSl = XUSl.drop('BMI', axis=1)\n",
    "XUSl = XUSl.drop('BMI_scaled', axis=1) "
   ]
  },
  {
   "cell_type": "code",
   "execution_count": 46,
   "metadata": {},
   "outputs": [],
   "source": [
    "# dropped because of high p-value where p > .10\n",
    "X = X.drop(['Fruits','MentBin','DiffWalk',\n",
    "                      'NoDocbcCost','HeartDiseaseorAttack','PhysActivity',\n",
    "                      'Smoker','Sex','Veggies','Stroke'], axis=1)"
   ]
  },
  {
   "cell_type": "code",
   "execution_count": 116,
   "metadata": {},
   "outputs": [
    {
     "name": "stdout",
     "output_type": "stream",
     "text": [
      "Optimization terminated successfully.\n",
      "         Current function value: 0.404055\n",
      "         Iterations 8\n",
      "                          MNLogit Regression Results                          \n",
      "==============================================================================\n",
      "Dep. Variable:           Diabetes_012   No. Observations:               177576\n",
      "Model:                        MNLogit   Df Residuals:                   177558\n",
      "Method:                           MLE   Df Model:                           16\n",
      "Date:                Mon, 03 Mar 2025   Pseudo R-squ.:                  0.1797\n",
      "Time:                        13:54:25   Log-Likelihood:                -71751.\n",
      "converged:                       True   LL-Null:                       -87466.\n",
      "Covariance Type:            nonrobust   LLR p-value:                     0.000\n",
      "=====================================================================================\n",
      "   Diabetes_012=1       coef    std err          z      P>|z|      [0.025      0.975]\n",
      "-------------------------------------------------------------------------------------\n",
      "const                -5.6405      0.107    -52.805      0.000      -5.850      -5.431\n",
      "HighBP                0.3741      0.040      9.376      0.000       0.296       0.452\n",
      "HighChol              0.5969      0.038     15.646      0.000       0.522       0.672\n",
      "HvyAlcoholConsump    -0.2161      0.088     -2.452      0.014      -0.389      -0.043\n",
      "GenHlth               0.3384      0.021     16.052      0.000       0.297       0.380\n",
      "Age                   0.1101      0.007     15.486      0.000       0.096       0.124\n",
      "Income               -0.0890      0.009    -10.248      0.000      -0.106      -0.072\n",
      "PhysBin              -0.0519      0.027     -1.933      0.053      -0.105       0.001\n",
      "BMI_standardized      0.3262      0.016     20.710      0.000       0.295       0.357\n",
      "-------------------------------------------------------------------------------------\n",
      "   Diabetes_012=2       coef    std err          z      P>|z|      [0.025      0.975]\n",
      "-------------------------------------------------------------------------------------\n",
      "const                -5.2121      0.049   -106.904      0.000      -5.308      -5.117\n",
      "HighBP                0.8143      0.018     46.306      0.000       0.780       0.849\n",
      "HighChol              0.6375      0.016     39.386      0.000       0.606       0.669\n",
      "HvyAlcoholConsump    -0.7542      0.045    -16.610      0.000      -0.843      -0.665\n",
      "GenHlth               0.5871      0.009     63.608      0.000       0.569       0.605\n",
      "Age                   0.1376      0.003     43.810      0.000       0.131       0.144\n",
      "Income               -0.0497      0.004    -13.213      0.000      -0.057      -0.042\n",
      "PhysBin              -0.0736      0.011     -6.539      0.000      -0.096      -0.052\n",
      "BMI_standardized      0.4265      0.007     60.180      0.000       0.413       0.440\n",
      "=====================================================================================\n"
     ]
    }
   ],
   "source": [
    "import statsmodels.api as sm\n",
    "\n",
    "X = sm.add_constant(X)\n",
    "logistic_model = sm.MNLogit(y_train, X)\n",
    "log_results = logistic_model.fit()\n",
    "\n",
    "print(log_results.summary())\n"
   ]
  },
  {
   "cell_type": "code",
   "execution_count": 118,
   "metadata": {},
   "outputs": [
    {
     "name": "stdout",
     "output_type": "stream",
     "text": [
      "Confusion Matrix:\n",
      " [[62652     0  1452]\n",
      " [ 1242     0   106]\n",
      " [ 8935     0  1717]]\n",
      "Classification Report:\n",
      "               precision    recall  f1-score   support\n",
      "\n",
      "         0.0       0.86      0.98      0.92     64104\n",
      "         1.0       0.00      0.00      0.00      1348\n",
      "         2.0       0.52      0.16      0.25     10652\n",
      "\n",
      "    accuracy                           0.85     76104\n",
      "   macro avg       0.46      0.38      0.39     76104\n",
      "weighted avg       0.80      0.85      0.81     76104\n",
      "\n"
     ]
    }
   ],
   "source": [
    "from sklearn.metrics import classification_report, confusion_matrix, accuracy_score\n",
    "\n",
    "X_test = x_test\n",
    "X_test = X_test.drop( ['Education','AnyHealthcare','CholCheck',\n",
    "                      'Fruits','MentBin','DiffWalk',\n",
    "                      'NoDocbcCost','HeartDiseaseorAttack','PhysActivity',\n",
    "                      'Smoker','Sex','Veggies','Stroke', 'BMI', 'BMI_scaled'], axis=1)\n",
    "\n",
    "\n",
    "X_test = sm.add_constant(X_test)\n",
    "\n",
    "pred_prob = log_results.predict(X_test)\n",
    "\n",
    "\n",
    "pred_class = pred_prob.idxmax(axis=1)\n",
    "accuracy_log = accuracy_score(y_test, pred_class)\n",
    "conf_matrix_log = confusion_matrix(y_test, pred_class)\n",
    "print(\"Confusion Matrix:\\n\", conf_matrix_log)\n",
    "print(\"Classification Report:\\n\", classification_report(y_test, pred_class))\n",
    "report = classification_report(y_test, pred_class, output_dict=True)\n",
    "\n",
    "\n",
    "Evaluation = Evaluation._append({\n",
    "    \"Model\": \"Logistic Regression\",\n",
    "    \"Accuracy\": accuracy_log,\n",
    "    \"nodiabetes_f1_score\": report['0.0']['f1-score'],\n",
    "    \"prediabetes_f1_score\": report['1.0']['f1-score'],\n",
    "    \"diabetes_f1_score\": report['2.0']['f1-score']\n",
    "}, ignore_index= True)\n",
    "  "
   ]
  },
  {
   "cell_type": "markdown",
   "metadata": {},
   "source": [
    "An accuracy of 85% or missclassification rate of nearly 15% is not a great model considering that a model that purely predicts no diabetes would have a missclassfication rate of nearly 16%. A technique of undersampling the majority class could be tried. "
   ]
  },
  {
   "cell_type": "markdown",
   "metadata": {},
   "source": [
    "## DecisionTree"
   ]
  },
  {
   "cell_type": "code",
   "execution_count": 119,
   "metadata": {},
   "outputs": [
    {
     "name": "stdout",
     "output_type": "stream",
     "text": [
      "Best Parameters: {'criterion': 'entropy', 'max_depth': 5, 'min_samples_leaf': 1, 'min_samples_split': 2}\n"
     ]
    }
   ],
   "source": [
    "#decision tree hyperparameter tuning\n",
    "from sklearn.tree import DecisionTreeClassifier\n",
    "from sklearn.model_selection import GridSearchCV\n",
    "from sklearn.metrics import f1_score, make_scorer\n",
    "\n",
    "f1_scorer = make_scorer(f1_score, average='macro')\n",
    "param_grid = {\n",
    "    'max_depth': [3, 5, 7],\n",
    "    'min_samples_split': [2, 5],\n",
    "    'min_samples_leaf': [1, 2, 4],\n",
    "    'criterion': ['gini', 'entropy']\n",
    "}\n",
    "\n",
    "dt = DecisionTreeClassifier()\n",
    "grid_search = GridSearchCV(dt, param_grid, cv=5, scoring=f1_scorer)\n",
    "grid_search.fit(x_train, y_train)\n",
    "\n",
    "print(\"Best Parameters:\", grid_search.best_params_)\n",
    "\n"
   ]
  },
  {
   "cell_type": "code",
   "execution_count": 83,
   "metadata": {},
   "outputs": [
    {
     "name": "stdout",
     "output_type": "stream",
     "text": [
      "Accuracy: 0.6016\n",
      "Confusion Matrix:\n",
      " [[38733 12312 13059]\n",
      " [  335   411   602]\n",
      " [ 1543  2466  6643]]\n",
      "Classification Report:\n",
      "               precision    recall  f1-score   support\n",
      "\n",
      "         0.0       0.95      0.60      0.74     64104\n",
      "         1.0       0.03      0.30      0.05      1348\n",
      "         2.0       0.33      0.62      0.43     10652\n",
      "\n",
      "    accuracy                           0.60     76104\n",
      "   macro avg       0.44      0.51      0.41     76104\n",
      "weighted avg       0.85      0.60      0.68     76104\n",
      "\n"
     ]
    },
    {
     "ename": "TypeError",
     "evalue": "string indices must be integers, not 'str'",
     "output_type": "error",
     "traceback": [
      "\u001b[1;31m---------------------------------------------------------------------------\u001b[0m",
      "\u001b[1;31mTypeError\u001b[0m                                 Traceback (most recent call last)",
      "Cell \u001b[1;32mIn[83], line 16\u001b[0m\n\u001b[0;32m     10\u001b[0m \u001b[38;5;28mprint\u001b[39m(\u001b[38;5;124m\"\u001b[39m\u001b[38;5;124mConfusion Matrix:\u001b[39m\u001b[38;5;130;01m\\n\u001b[39;00m\u001b[38;5;124m\"\u001b[39m, conf_matrix_log)\n\u001b[0;32m     11\u001b[0m \u001b[38;5;28mprint\u001b[39m(\u001b[38;5;124m\"\u001b[39m\u001b[38;5;124mClassification Report:\u001b[39m\u001b[38;5;130;01m\\n\u001b[39;00m\u001b[38;5;124m\"\u001b[39m, classification_report(y_test, gini_pred))\n\u001b[0;32m     13\u001b[0m Evaluation \u001b[38;5;241m=\u001b[39m Evaluation\u001b[38;5;241m.\u001b[39m_append({\n\u001b[0;32m     14\u001b[0m     \u001b[38;5;124m\"\u001b[39m\u001b[38;5;124mModel\u001b[39m\u001b[38;5;124m\"\u001b[39m: \u001b[38;5;124m\"\u001b[39m\u001b[38;5;124mDecision Tree Entropy\u001b[39m\u001b[38;5;124m\"\u001b[39m,\n\u001b[0;32m     15\u001b[0m     \u001b[38;5;124m\"\u001b[39m\u001b[38;5;124mAccuracy\u001b[39m\u001b[38;5;124m\"\u001b[39m: accuracy,\n\u001b[1;32m---> 16\u001b[0m     \u001b[38;5;124m\"\u001b[39m\u001b[38;5;124mno diabetes f1 score\u001b[39m\u001b[38;5;124m\"\u001b[39m: report[\u001b[38;5;124m'\u001b[39m\u001b[38;5;124m0\u001b[39m\u001b[38;5;124m'\u001b[39m][\u001b[38;5;124m'\u001b[39m\u001b[38;5;124mf1-score\u001b[39m\u001b[38;5;124m'\u001b[39m],\n\u001b[0;32m     17\u001b[0m     \u001b[38;5;124m\"\u001b[39m\u001b[38;5;124mprediabetes f1 score\u001b[39m\u001b[38;5;124m\"\u001b[39m: report[\u001b[38;5;124m'\u001b[39m\u001b[38;5;124m1\u001b[39m\u001b[38;5;124m'\u001b[39m][\u001b[38;5;124m'\u001b[39m\u001b[38;5;124mf1-score\u001b[39m\u001b[38;5;124m'\u001b[39m],\n\u001b[0;32m     18\u001b[0m     \u001b[38;5;124m\"\u001b[39m\u001b[38;5;124mdiabetes f1 score\u001b[39m\u001b[38;5;124m\"\u001b[39m: report[\u001b[38;5;124m'\u001b[39m\u001b[38;5;124m2\u001b[39m\u001b[38;5;124m'\u001b[39m][\u001b[38;5;124m'\u001b[39m\u001b[38;5;124mf1-score\u001b[39m\u001b[38;5;124m'\u001b[39m]\n\u001b[0;32m     19\u001b[0m     \n\u001b[0;32m     20\u001b[0m }, ignore_index\u001b[38;5;241m=\u001b[39m \u001b[38;5;28;01mTrue\u001b[39;00m)\n",
      "\u001b[1;31mTypeError\u001b[0m: string indices must be integers, not 'str'"
     ]
    }
   ],
   "source": [
    "# training and testing decision tree\n",
    "\n",
    "gini_tree = DecisionTreeClassifier(random_state=1, criterion=\"entropy\", class_weight='balanced', max_depth=5, min_samples_leaf=1, min_samples_split=2)\n",
    "gini_tree.fit(x_train, y_train)\n",
    "gini_pred = gini_tree.predict(x_test)\n",
    "\n",
    "accuracy = accuracy_score(y_test, gini_pred)\n",
    "print(f\"Accuracy: {accuracy:.4f}\")\n",
    "conf_matrix_log = confusion_matrix(y_test, gini_pred)\n",
    "print(\"Confusion Matrix:\\n\", conf_matrix_log)\n",
    "print(\"Classification Report:\\n\", classification_report(y_test, gini_pred))\n",
    "\n",
    "Evaluation = Evaluation._append({\n",
    "    \"Model\": \"Decision Tree Entropy\",\n",
    "    \"Accuracy\": accuracy,\n",
    "    \"no diabetes f1 score\": report['0']['f1-score'],\n",
    "    \"prediabetes f1 score\": report['1']['f1-score'],\n",
    "    \"diabetes f1 score\": report['2']['f1-score']\n",
    "    \n",
    "}, ignore_index= True)"
   ]
  },
  {
   "cell_type": "code",
   "execution_count": 84,
   "metadata": {},
   "outputs": [
    {
     "name": "stdout",
     "output_type": "stream",
     "text": [
      "Best Parameters: {'criterion': 'gini', 'max_depth': 5, 'min_samples_leaf': 1, 'min_samples_split': 2}\n"
     ]
    }
   ],
   "source": [
    "\n",
    "\n",
    "param_grid = {\n",
    "    'max_depth': [3, 5, 7],\n",
    "    'min_samples_split': [2, 5],\n",
    "    'min_samples_leaf': [1, 2, 4],\n",
    "    'criterion': ['gini', 'entropy']\n",
    "}\n",
    "\n",
    "dt = DecisionTreeClassifier()\n",
    "grid_search = GridSearchCV(dt, param_grid, cv=5, scoring='accuracy')\n",
    "grid_search.fit(XU, yu)\n",
    "\n",
    "print(\"Best Parameters:\", grid_search.best_params_)"
   ]
  },
  {
   "cell_type": "code",
   "execution_count": 89,
   "metadata": {},
   "outputs": [
    {
     "name": "stdout",
     "output_type": "stream",
     "text": [
      "Accuracy: 0.5857\n",
      "Confusion Matrix:\n",
      " [[37772 14367 11965]\n",
      " [  336   428   584]\n",
      " [ 1447  2831  6374]]\n",
      "Classification Report:\n",
      "               precision    recall  f1-score   support\n",
      "\n",
      "         0.0       0.95      0.59      0.73     64104\n",
      "         1.0       0.02      0.32      0.05      1348\n",
      "         2.0       0.34      0.60      0.43     10652\n",
      "\n",
      "    accuracy                           0.59     76104\n",
      "   macro avg       0.44      0.50      0.40     76104\n",
      "weighted avg       0.85      0.59      0.67     76104\n",
      "\n"
     ]
    },
    {
     "ename": "TypeError",
     "evalue": "string indices must be integers, not 'str'",
     "output_type": "error",
     "traceback": [
      "\u001b[1;31m---------------------------------------------------------------------------\u001b[0m",
      "\u001b[1;31mTypeError\u001b[0m                                 Traceback (most recent call last)",
      "Cell \u001b[1;32mIn[89], line 14\u001b[0m\n\u001b[0;32m      8\u001b[0m \u001b[38;5;28mprint\u001b[39m(\u001b[38;5;124m\"\u001b[39m\u001b[38;5;124mConfusion Matrix:\u001b[39m\u001b[38;5;130;01m\\n\u001b[39;00m\u001b[38;5;124m\"\u001b[39m, conf_matrix_log)\n\u001b[0;32m      9\u001b[0m \u001b[38;5;28mprint\u001b[39m(\u001b[38;5;124m\"\u001b[39m\u001b[38;5;124mClassification Report:\u001b[39m\u001b[38;5;130;01m\\n\u001b[39;00m\u001b[38;5;124m\"\u001b[39m, classification_report(y_test, gini_pred))\n\u001b[0;32m     11\u001b[0m Evaluation \u001b[38;5;241m=\u001b[39m Evaluation\u001b[38;5;241m.\u001b[39m_append({\n\u001b[0;32m     12\u001b[0m     \u001b[38;5;124m\"\u001b[39m\u001b[38;5;124mModel\u001b[39m\u001b[38;5;124m\"\u001b[39m: \u001b[38;5;124m\"\u001b[39m\u001b[38;5;124mDecision Tree undersampled\u001b[39m\u001b[38;5;124m\"\u001b[39m,\n\u001b[0;32m     13\u001b[0m     \u001b[38;5;124m\"\u001b[39m\u001b[38;5;124mAccuracy\u001b[39m\u001b[38;5;124m\"\u001b[39m: accuracy,\n\u001b[1;32m---> 14\u001b[0m     \u001b[38;5;124m\"\u001b[39m\u001b[38;5;124mno diabetes f1 score\u001b[39m\u001b[38;5;124m\"\u001b[39m: report[\u001b[38;5;124m'\u001b[39m\u001b[38;5;124m0\u001b[39m\u001b[38;5;124m'\u001b[39m][\u001b[38;5;124m'\u001b[39m\u001b[38;5;124mf1-score\u001b[39m\u001b[38;5;124m'\u001b[39m],\n\u001b[0;32m     15\u001b[0m     \u001b[38;5;124m\"\u001b[39m\u001b[38;5;124mprediabetes f1 score\u001b[39m\u001b[38;5;124m\"\u001b[39m: report[\u001b[38;5;124m'\u001b[39m\u001b[38;5;124m1\u001b[39m\u001b[38;5;124m'\u001b[39m][\u001b[38;5;124m'\u001b[39m\u001b[38;5;124mf1-score\u001b[39m\u001b[38;5;124m'\u001b[39m],\n\u001b[0;32m     16\u001b[0m     \u001b[38;5;124m\"\u001b[39m\u001b[38;5;124mdiabetes f1 score\u001b[39m\u001b[38;5;124m\"\u001b[39m: report[\u001b[38;5;124m'\u001b[39m\u001b[38;5;124m2\u001b[39m\u001b[38;5;124m'\u001b[39m][\u001b[38;5;124m'\u001b[39m\u001b[38;5;124mf1-score\u001b[39m\u001b[38;5;124m'\u001b[39m]\n\u001b[0;32m     17\u001b[0m     \n\u001b[0;32m     18\u001b[0m }, ignore_index\u001b[38;5;241m=\u001b[39m \u001b[38;5;28;01mTrue\u001b[39;00m)\n",
      "\u001b[1;31mTypeError\u001b[0m: string indices must be integers, not 'str'"
     ]
    }
   ],
   "source": [
    "\n",
    "gini_tree = DecisionTreeClassifier(random_state=1, criterion=\"gini\", max_depth=5, min_samples_leaf=1, min_samples_split=2)\n",
    "gini_tree.fit(XU, yu)\n",
    "gini_pred = gini_tree.predict(x_test)\n",
    "\n",
    "accuracy = accuracy_score(y_test, gini_pred)\n",
    "print(f\"Accuracy: {accuracy:.4f}\")\n",
    "conf_matrix_log = confusion_matrix(y_test, gini_pred)\n",
    "print(\"Confusion Matrix:\\n\", conf_matrix_log)\n",
    "print(\"Classification Report:\\n\", classification_report(y_test, gini_pred))\n",
    "\n",
    "Evaluation = Evaluation._append({\n",
    "    \"Model\": \"Decision Tree undersampled\",\n",
    "    \"Accuracy\": accuracy,\n",
    "    \"no diabetes f1 score\": report['0']['f1-score'],\n",
    "    \"prediabetes f1 score\": report['1']['f1-score'],\n",
    "    \"diabetes f1 score\": report['2']['f1-score']\n",
    "    \n",
    "}, ignore_index= True)"
   ]
  },
  {
   "cell_type": "code",
   "execution_count": 86,
   "metadata": {},
   "outputs": [
    {
     "name": "stdout",
     "output_type": "stream",
     "text": [
      "Best Parameters: {'criterion': 'gini', 'max_depth': 7, 'min_samples_leaf': 2, 'min_samples_split': 2}\n"
     ]
    }
   ],
   "source": [
    "\n",
    "\n",
    "param_grid = {\n",
    "    'max_depth': [3, 5, 7],\n",
    "    'min_samples_split': [2, 5],\n",
    "    'min_samples_leaf': [1, 2, 4],\n",
    "    'criterion': ['gini', 'entropy']\n",
    "}\n",
    "\n",
    "dt = DecisionTreeClassifier()\n",
    "grid_search = GridSearchCV(dt, param_grid, cv=5, scoring='accuracy')\n",
    "grid_search.fit(X_US, yus)\n",
    "\n",
    "print(\"Best Parameters:\", grid_search.best_params_)"
   ]
  },
  {
   "cell_type": "code",
   "execution_count": null,
   "metadata": {},
   "outputs": [
    {
     "name": "stdout",
     "output_type": "stream",
     "text": [
      "Accuracy: 0.6963\n",
      "Confusion Matrix:\n",
      " [[44600    10 19494]\n",
      " [  478     0   870]\n",
      " [ 2261     3  8388]]\n",
      "Classification Report:\n",
      "               precision    recall  f1-score   support\n",
      "\n",
      "         0.0       0.94      0.70      0.80     64104\n",
      "         1.0       0.00      0.00      0.00      1348\n",
      "         2.0       0.29      0.79      0.43     10652\n",
      "\n",
      "    accuracy                           0.70     76104\n",
      "   macro avg       0.41      0.49      0.41     76104\n",
      "weighted avg       0.83      0.70      0.73     76104\n",
      "\n"
     ]
    },
    {
     "ename": "TypeError",
     "evalue": "string indices must be integers, not 'str'",
     "output_type": "error",
     "traceback": [
      "\u001b[1;31m---------------------------------------------------------------------------\u001b[0m",
      "\u001b[1;31mTypeError\u001b[0m                                 Traceback (most recent call last)",
      "Cell \u001b[1;32mIn[88], line 14\u001b[0m\n\u001b[0;32m      8\u001b[0m \u001b[38;5;28mprint\u001b[39m(\u001b[38;5;124m\"\u001b[39m\u001b[38;5;124mConfusion Matrix:\u001b[39m\u001b[38;5;130;01m\\n\u001b[39;00m\u001b[38;5;124m\"\u001b[39m, conf_matrix_log)\n\u001b[0;32m      9\u001b[0m \u001b[38;5;28mprint\u001b[39m(\u001b[38;5;124m\"\u001b[39m\u001b[38;5;124mClassification Report:\u001b[39m\u001b[38;5;130;01m\\n\u001b[39;00m\u001b[38;5;124m\"\u001b[39m, classification_report(y_test, gini_pred))\n\u001b[0;32m     11\u001b[0m Evaluation \u001b[38;5;241m=\u001b[39m Evaluation\u001b[38;5;241m.\u001b[39m_append({\n\u001b[0;32m     12\u001b[0m     \u001b[38;5;124m\"\u001b[39m\u001b[38;5;124mModel\u001b[39m\u001b[38;5;124m\"\u001b[39m: \u001b[38;5;124m\"\u001b[39m\u001b[38;5;124mDecision Tree SMOTE\u001b[39m\u001b[38;5;124m\"\u001b[39m,\n\u001b[0;32m     13\u001b[0m     \u001b[38;5;124m\"\u001b[39m\u001b[38;5;124mAccuracy\u001b[39m\u001b[38;5;124m\"\u001b[39m: accuracy,\n\u001b[1;32m---> 14\u001b[0m     \u001b[38;5;124m\"\u001b[39m\u001b[38;5;124mno diabetes f1 score\u001b[39m\u001b[38;5;124m\"\u001b[39m: report[\u001b[38;5;124m'\u001b[39m\u001b[38;5;124m0\u001b[39m\u001b[38;5;124m'\u001b[39m][\u001b[38;5;124m'\u001b[39m\u001b[38;5;124mf1-score\u001b[39m\u001b[38;5;124m'\u001b[39m],\n\u001b[0;32m     15\u001b[0m     \u001b[38;5;124m\"\u001b[39m\u001b[38;5;124mprediabetes f1 score\u001b[39m\u001b[38;5;124m\"\u001b[39m: report[\u001b[38;5;124m'\u001b[39m\u001b[38;5;124m1\u001b[39m\u001b[38;5;124m'\u001b[39m][\u001b[38;5;124m'\u001b[39m\u001b[38;5;124mf1-score\u001b[39m\u001b[38;5;124m'\u001b[39m],\n\u001b[0;32m     16\u001b[0m     \u001b[38;5;124m\"\u001b[39m\u001b[38;5;124mdiabetes f1 score\u001b[39m\u001b[38;5;124m\"\u001b[39m: report[\u001b[38;5;124m'\u001b[39m\u001b[38;5;124m2\u001b[39m\u001b[38;5;124m'\u001b[39m][\u001b[38;5;124m'\u001b[39m\u001b[38;5;124mf1-score\u001b[39m\u001b[38;5;124m'\u001b[39m]\n\u001b[0;32m     17\u001b[0m     \n\u001b[0;32m     18\u001b[0m }, ignore_index\u001b[38;5;241m=\u001b[39m \u001b[38;5;28;01mTrue\u001b[39;00m)\n",
      "\u001b[1;31mTypeError\u001b[0m: string indices must be integers, not 'str'"
     ]
    }
   ],
   "source": [
    "\n",
    "gini_tree = DecisionTreeClassifier(random_state=1, criterion=\"gini\", max_depth=7, min_samples_leaf=2, min_samples_split=2)\n",
    "gini_tree.fit(X_US, yus)\n",
    "gini_pred = gini_tree.predict(x_test)\n",
    "\n",
    "accuracy = accuracy_score(y_test, gini_pred)\n",
    "print(f\"Accuracy: {accuracy:.4f}\")\n",
    "conf_matrix_log = confusion_matrix(y_test, gini_pred)\n",
    "print(\"Confusion Matrix:\\n\", conf_matrix_log)\n",
    "print(\"Classification Report:\\n\", classification_report(y_test, gini_pred))\n",
    "\n",
    "Evaluation = Evaluation._append({\n",
    "    \"Model\": \"Decision Tree SMOTE\",\n",
    "    \"Accuracy\": accuracy,\n",
    "    \"no diabetes f1 score\": report['0']['f1-score'],\n",
    "    \"prediabetes f1 score\": report['1']['f1-score'],\n",
    "    \"diabetes f1 score\": report['2']['f1-score']\n",
    "    \n",
    "}, ignore_index= True)"
   ]
  },
  {
   "cell_type": "markdown",
   "metadata": {},
   "source": [
    "## XGBoosting"
   ]
  },
  {
   "cell_type": "code",
   "execution_count": null,
   "metadata": {},
   "outputs": [
    {
     "name": "stdout",
     "output_type": "stream",
     "text": [
      "Accuracy: 0.8497\n",
      "Confusion Matrix:\n",
      " [[63217     1   886]\n",
      " [ 1261     1    86]\n",
      " [ 9207     0  1445]]\n",
      "Classification Report:\n",
      "               precision    recall  f1-score   support\n",
      "\n",
      "         0.0       0.86      0.99      0.92     64104\n",
      "         1.0       0.50      0.00      0.00      1348\n",
      "         2.0       0.60      0.14      0.22     10652\n",
      "\n",
      "    accuracy                           0.85     76104\n",
      "   macro avg       0.65      0.37      0.38     76104\n",
      "weighted avg       0.82      0.85      0.80     76104\n",
      "\n"
     ]
    }
   ],
   "source": [
    "from sklearn.ensemble import GradientBoostingClassifier\n",
    "\n",
    "gradb_clf = GradientBoostingClassifier( \n",
    "    n_estimators=25,    \n",
    "    learning_rate=0.1,   \n",
    "    max_depth=5,         \n",
    "    random_state=1\n",
    "    )\n",
    "\n",
    "\n",
    "gradb_clf.fit(x_train, y_train)\n",
    "gradb_pred = gradb_clf.predict(x_test)\n",
    "\n",
    "accuracy = accuracy_score(y_test, gradb_pred)\n",
    "print(f\"Accuracy: {accuracy:.4f}\")\n",
    "conf_matrix_log = confusion_matrix(y_test, gradb_pred)\n",
    "print(\"Confusion Matrix:\\n\", conf_matrix_log)\n",
    "print(\"Classification Report:\\n\", classification_report(y_test, gradb_pred))\n",
    "\n",
    "Evaluation = Evaluation._append({\n",
    "    \"Model\": \"Gradient Boosting\",\n",
    "    \"Accuracy\": accuracy,\n",
    "    \"no diabetes f1 score\": report['0']['f1-score'],\n",
    "    \"prediabetes f1 score\": report['1']['f1-score'],\n",
    "    \"diabetes f1 score\": report['2']['f1-score']\n",
    "}, ignore_index= True)"
   ]
  },
  {
   "cell_type": "code",
   "execution_count": 91,
   "metadata": {},
   "outputs": [
    {
     "name": "stderr",
     "output_type": "stream",
     "text": [
      "[I 2025-03-03 12:13:36,610] A new study created in memory with name: no-name-cd8d948e-d2b8-47c2-a5bf-c2b86141ba61\n",
      "[I 2025-03-03 12:13:43,809] Trial 0 finished with value: 0.850783138862609 and parameters: {'max_depth': 10, 'learning_rate': 0.025731625851522378, 'n_estimators': 263, 'subsample': 0.996322449452851, 'colsample_bytree': 0.500204852235759}. Best is trial 0 with value: 0.850783138862609.\n",
      "[I 2025-03-03 12:13:45,177] Trial 1 finished with value: 0.850454641017555 and parameters: {'max_depth': 6, 'learning_rate': 0.23691758134104415, 'n_estimators': 73, 'subsample': 0.8132965347654109, 'colsample_bytree': 0.655347937046628}. Best is trial 0 with value: 0.850783138862609.\n",
      "[I 2025-03-03 12:13:47,078] Trial 2 finished with value: 0.850940817828235 and parameters: {'max_depth': 7, 'learning_rate': 0.07943145527808132, 'n_estimators': 103, 'subsample': 0.9477432283976874, 'colsample_bytree': 0.7175645107252768}. Best is trial 2 with value: 0.850940817828235.\n",
      "[I 2025-03-03 12:13:49,477] Trial 3 finished with value: 0.8505072006727636 and parameters: {'max_depth': 4, 'learning_rate': 0.05642226823869278, 'n_estimators': 162, 'subsample': 0.9174399484742863, 'colsample_bytree': 0.5553237638256027}. Best is trial 2 with value: 0.850940817828235.\n",
      "[I 2025-03-03 12:13:51,728] Trial 4 finished with value: 0.8506123199831809 and parameters: {'max_depth': 8, 'learning_rate': 0.05283970131242281, 'n_estimators': 114, 'subsample': 0.6995412220073831, 'colsample_bytree': 0.534576509731421}. Best is trial 2 with value: 0.850940817828235.\n",
      "[I 2025-03-03 12:13:53,807] Trial 5 finished with value: 0.8472222222222222 and parameters: {'max_depth': 8, 'learning_rate': 0.26321454046620113, 'n_estimators': 105, 'subsample': 0.661215669801966, 'colsample_bytree': 0.5812010121354739}. Best is trial 2 with value: 0.850940817828235.\n",
      "[I 2025-03-03 12:13:58,508] Trial 6 finished with value: 0.8500735835172921 and parameters: {'max_depth': 7, 'learning_rate': 0.08656257469192417, 'n_estimators': 276, 'subsample': 0.6213532664037181, 'colsample_bytree': 0.5798501214265528}. Best is trial 2 with value: 0.850940817828235.\n",
      "[I 2025-03-03 12:14:00,569] Trial 7 finished with value: 0.8494560075685903 and parameters: {'max_depth': 9, 'learning_rate': 0.011507661549955762, 'n_estimators': 88, 'subsample': 0.61557463419017, 'colsample_bytree': 0.7160806751846058}. Best is trial 2 with value: 0.850940817828235.\n",
      "[I 2025-03-03 12:14:02,422] Trial 8 finished with value: 0.8509276779144329 and parameters: {'max_depth': 6, 'learning_rate': 0.06101009840154122, 'n_estimators': 107, 'subsample': 0.6581374441087017, 'colsample_bytree': 0.7015797930804202}. Best is trial 2 with value: 0.850940817828235.\n",
      "[I 2025-03-03 12:14:08,184] Trial 9 finished with value: 0.8502444023967203 and parameters: {'max_depth': 10, 'learning_rate': 0.017254279023743904, 'n_estimators': 201, 'subsample': 0.7189378707504581, 'colsample_bytree': 0.6079101543989507}. Best is trial 2 with value: 0.850940817828235.\n",
      "[I 2025-03-03 12:14:10,458] Trial 10 finished with value: 0.851019657311048 and parameters: {'max_depth': 4, 'learning_rate': 0.12224243166189531, 'n_estimators': 169, 'subsample': 0.5107000839512073, 'colsample_bytree': 0.8511797900203374}. Best is trial 10 with value: 0.851019657311048.\n",
      "[I 2025-03-03 12:14:12,571] Trial 11 finished with value: 0.8510722169662567 and parameters: {'max_depth': 3, 'learning_rate': 0.12820855224817493, 'n_estimators': 170, 'subsample': 0.5061867617950512, 'colsample_bytree': 0.8539294974915359}. Best is trial 11 with value: 0.8510722169662567.\n",
      "[I 2025-03-03 12:14:14,886] Trial 12 finished with value: 0.8509933774834437 and parameters: {'max_depth': 3, 'learning_rate': 0.14339442482444037, 'n_estimators': 179, 'subsample': 0.5011250700010033, 'colsample_bytree': 0.8730870696712052}. Best is trial 11 with value: 0.8510722169662567.\n",
      "[I 2025-03-03 12:14:18,011] Trial 13 finished with value: 0.8509145380006308 and parameters: {'max_depth': 4, 'learning_rate': 0.128482905526293, 'n_estimators': 233, 'subsample': 0.5107497087254093, 'colsample_bytree': 0.865774480341042}. Best is trial 11 with value: 0.8510722169662567.\n",
      "[I 2025-03-03 12:14:19,799] Trial 14 finished with value: 0.8511116367076632 and parameters: {'max_depth': 3, 'learning_rate': 0.15282284281410227, 'n_estimators': 150, 'subsample': 0.5515004512119388, 'colsample_bytree': 0.9762623857376225}. Best is trial 14 with value: 0.8511116367076632.\n",
      "[I 2025-03-03 12:14:21,803] Trial 15 finished with value: 0.8507568590350048 and parameters: {'max_depth': 3, 'learning_rate': 0.17952313529148153, 'n_estimators': 141, 'subsample': 0.5755591891079969, 'colsample_bytree': 0.9914277215246703}. Best is trial 14 with value: 0.8511116367076632.\n",
      "[I 2025-03-03 12:14:25,054] Trial 16 finished with value: 0.8507042993797961 and parameters: {'max_depth': 5, 'learning_rate': 0.04122615901954974, 'n_estimators': 214, 'subsample': 0.7787738475575354, 'colsample_bytree': 0.9894582453561533}. Best is trial 14 with value: 0.8511116367076632.\n",
      "[I 2025-03-03 12:14:26,897] Trial 17 finished with value: 0.850454641017555 and parameters: {'max_depth': 3, 'learning_rate': 0.09410978139681672, 'n_estimators': 141, 'subsample': 0.5824145838156927, 'colsample_bytree': 0.9174025841434752}. Best is trial 14 with value: 0.8511116367076632.\n",
      "[I 2025-03-03 12:14:27,875] Trial 18 finished with value: 0.8506385998107853 and parameters: {'max_depth': 5, 'learning_rate': 0.2005261622871979, 'n_estimators': 54, 'subsample': 0.8536884124686137, 'colsample_bytree': 0.8128145866882525}. Best is trial 14 with value: 0.8511116367076632.\n",
      "[I 2025-03-03 12:14:30,096] Trial 19 finished with value: 0.8500078839482813 and parameters: {'max_depth': 5, 'learning_rate': 0.2895295214800432, 'n_estimators': 140, 'subsample': 0.5655092428495329, 'colsample_bytree': 0.9345185779291935}. Best is trial 14 with value: 0.8511116367076632.\n"
     ]
    },
    {
     "ename": "AttributeError",
     "evalue": "'Study' object has no attribute 'best_params_'",
     "output_type": "error",
     "traceback": [
      "\u001b[1;31m---------------------------------------------------------------------------\u001b[0m",
      "\u001b[1;31mAttributeError\u001b[0m                            Traceback (most recent call last)",
      "Cell \u001b[1;32mIn[91], line 29\u001b[0m\n\u001b[0;32m     26\u001b[0m study \u001b[38;5;241m=\u001b[39m optuna\u001b[38;5;241m.\u001b[39mcreate_study(direction\u001b[38;5;241m=\u001b[39m\u001b[38;5;124m'\u001b[39m\u001b[38;5;124mmaximize\u001b[39m\u001b[38;5;124m'\u001b[39m)\n\u001b[0;32m     27\u001b[0m study\u001b[38;5;241m.\u001b[39moptimize(objective, n_trials\u001b[38;5;241m=\u001b[39m\u001b[38;5;241m20\u001b[39m)\n\u001b[1;32m---> 29\u001b[0m \u001b[38;5;28mprint\u001b[39m(\u001b[38;5;124m\"\u001b[39m\u001b[38;5;124mBest Hyperparameters:\u001b[39m\u001b[38;5;124m\"\u001b[39m, study\u001b[38;5;241m.\u001b[39mbest_params_)\n",
      "\u001b[1;31mAttributeError\u001b[0m: 'Study' object has no attribute 'best_params_'"
     ]
    }
   ],
   "source": [
    "# hyperparameter tuning for xgboost\n",
    "import optuna\n",
    "import xgboost as xgb\n",
    "from sklearn.metrics import accuracy_score\n",
    "\n",
    "# Convert categorical columns to numerical values\n",
    "x_train_encoded = pd.get_dummies(x_train)\n",
    "x_test_encoded = pd.get_dummies(x_test)\n",
    "\n",
    "def objective(trial):\n",
    "    param = {\n",
    "        'objective': 'binary:logistic',\n",
    "        'eval_metric': 'logloss',\n",
    "        'max_depth': trial.suggest_int('max_depth', 3, 10),\n",
    "        'learning_rate': trial.suggest_loguniform('learning_rate', 0.01, 0.3),\n",
    "        'n_estimators': trial.suggest_int('n_estimators', 50, 300),\n",
    "        'subsample': trial.suggest_uniform('subsample', 0.5, 1.0),\n",
    "        'colsample_bytree': trial.suggest_uniform('colsample_bytree', 0.5, 1.0)\n",
    "    }\n",
    "    \n",
    "    xgb_clf = xgb.XGBClassifier(**param)\n",
    "    xgb_clf.fit(x_train_encoded, y_train)\n",
    "    preds = xgb_clf.predict(x_test_encoded)\n",
    "    return accuracy_score(y_test, preds)\n",
    "\n",
    "study = optuna.create_study(direction='maximize')\n",
    "study.optimize(objective, n_trials=20)\n",
    "\n",
    "print(\"Best Hyperparameters:\", study.best_params_)\n"
   ]
  },
  {
   "cell_type": "code",
   "execution_count": null,
   "metadata": {},
   "outputs": [
    {
     "name": "stdout",
     "output_type": "stream",
     "text": [
      "Accuracy: 0.8506\n",
      "Confusion Matrix:\n",
      " [[62720     1  1383]\n",
      " [ 1215     1   132]\n",
      " [ 8636     1  2015]]\n",
      "Classification Report:\n",
      "               precision    recall  f1-score   support\n",
      "\n",
      "         0.0       0.86      0.98      0.92     64104\n",
      "         1.0       0.33      0.00      0.00      1348\n",
      "         2.0       0.57      0.19      0.28     10652\n",
      "\n",
      "    accuracy                           0.85     76104\n",
      "   macro avg       0.59      0.39      0.40     76104\n",
      "weighted avg       0.81      0.85      0.81     76104\n",
      "\n"
     ]
    },
    {
     "ename": "TypeError",
     "evalue": "string indices must be integers, not 'str'",
     "output_type": "error",
     "traceback": [
      "\u001b[1;31m---------------------------------------------------------------------------\u001b[0m",
      "\u001b[1;31mTypeError\u001b[0m                                 Traceback (most recent call last)",
      "Cell \u001b[1;32mIn[93], line 26\u001b[0m\n\u001b[0;32m     20\u001b[0m \u001b[38;5;28mprint\u001b[39m(\u001b[38;5;124m\"\u001b[39m\u001b[38;5;124mConfusion Matrix:\u001b[39m\u001b[38;5;130;01m\\n\u001b[39;00m\u001b[38;5;124m\"\u001b[39m, conf_matrix_log)\n\u001b[0;32m     21\u001b[0m \u001b[38;5;28mprint\u001b[39m(\u001b[38;5;124m\"\u001b[39m\u001b[38;5;124mClassification Report:\u001b[39m\u001b[38;5;130;01m\\n\u001b[39;00m\u001b[38;5;124m\"\u001b[39m, classification_report(y_test, gradb_pred))\n\u001b[0;32m     23\u001b[0m Evaluation \u001b[38;5;241m=\u001b[39m Evaluation\u001b[38;5;241m.\u001b[39m_append({\n\u001b[0;32m     24\u001b[0m     \u001b[38;5;124m\"\u001b[39m\u001b[38;5;124mModel\u001b[39m\u001b[38;5;124m\"\u001b[39m: \u001b[38;5;124m\"\u001b[39m\u001b[38;5;124mGradient Boosting\u001b[39m\u001b[38;5;124m\"\u001b[39m,\n\u001b[0;32m     25\u001b[0m     \u001b[38;5;124m\"\u001b[39m\u001b[38;5;124mAccuracy\u001b[39m\u001b[38;5;124m\"\u001b[39m: accuracy,\n\u001b[1;32m---> 26\u001b[0m     \u001b[38;5;124m\"\u001b[39m\u001b[38;5;124mno diabetes f1 score\u001b[39m\u001b[38;5;124m\"\u001b[39m: report[\u001b[38;5;124m'\u001b[39m\u001b[38;5;124m0\u001b[39m\u001b[38;5;124m'\u001b[39m][\u001b[38;5;124m'\u001b[39m\u001b[38;5;124mf1-score\u001b[39m\u001b[38;5;124m'\u001b[39m],\n\u001b[0;32m     27\u001b[0m     \u001b[38;5;124m\"\u001b[39m\u001b[38;5;124mprediabetes f1 score\u001b[39m\u001b[38;5;124m\"\u001b[39m: report[\u001b[38;5;124m'\u001b[39m\u001b[38;5;124m1\u001b[39m\u001b[38;5;124m'\u001b[39m][\u001b[38;5;124m'\u001b[39m\u001b[38;5;124mf1-score\u001b[39m\u001b[38;5;124m'\u001b[39m],\n\u001b[0;32m     28\u001b[0m     \u001b[38;5;124m\"\u001b[39m\u001b[38;5;124mdiabetes f1 score\u001b[39m\u001b[38;5;124m\"\u001b[39m: report[\u001b[38;5;124m'\u001b[39m\u001b[38;5;124m2\u001b[39m\u001b[38;5;124m'\u001b[39m][\u001b[38;5;124m'\u001b[39m\u001b[38;5;124mf1-score\u001b[39m\u001b[38;5;124m'\u001b[39m]\n\u001b[0;32m     29\u001b[0m }, ignore_index\u001b[38;5;241m=\u001b[39m \u001b[38;5;28;01mTrue\u001b[39;00m)\n",
      "\u001b[1;31mTypeError\u001b[0m: string indices must be integers, not 'str'"
     ]
    }
   ],
   "source": [
    "#max_depth': 3, 'learning_rate': 0.15282284281410227, 'n_estimators': 150, 'subsample': 0.5515004512119388, 'colsample_bytree': 0.9762623857376225}. Best is trial 14 with value: 0.8511116367076632.\n",
    "from sklearn.ensemble import GradientBoostingClassifier\n",
    "\n",
    "gradb_clf = GradientBoostingClassifier( \n",
    "    n_estimators=150,    \n",
    "    learning_rate=0.15282284281410227,   \n",
    "    max_depth=3,  \n",
    "    subsample= 0.5515004512119388,\n",
    "          \n",
    "    random_state=1\n",
    "    )\n",
    "\n",
    "\n",
    "gradb_clf.fit(x_train, y_train)\n",
    "gradb_pred = gradb_clf.predict(x_test)\n",
    "\n",
    "accuracy = accuracy_score(y_test, gradb_pred)\n",
    "print(f\"Accuracy: {accuracy:.4f}\")\n",
    "conf_matrix_log = confusion_matrix(y_test, gradb_pred)\n",
    "print(\"Confusion Matrix:\\n\", conf_matrix_log)\n",
    "print(\"Classification Report:\\n\", classification_report(y_test, gradb_pred))\n",
    "\n",
    "Evaluation = Evaluation._append({\n",
    "    \"Model\": \"Gradient Boosting\",\n",
    "    \"Accuracy\": accuracy,\n",
    "    \"no diabetes f1 score\": report['0']['f1-score'],\n",
    "    \"prediabetes f1 score\": report['1']['f1-score'],\n",
    "    \"diabetes f1 score\": report['2']['f1-score']\n",
    "}, ignore_index= True)"
   ]
  },
  {
   "cell_type": "markdown",
   "metadata": {},
   "source": [
    "## RandForest"
   ]
  },
  {
   "cell_type": "code",
   "execution_count": null,
   "metadata": {},
   "outputs": [
    {
     "name": "stdout",
     "output_type": "stream",
     "text": [
      "Accuracy: 0.8459870703248187\n",
      "Confusion Matrix:\n",
      " [[63282     0   822]\n",
      " [ 1275     0    73]\n",
      " [ 9551     0  1101]]\n",
      "Classification Report:\n",
      "               precision    recall  f1-score   support\n",
      "\n",
      "         0.0       0.85      0.99      0.92     64104\n",
      "         1.0       0.00      0.00      0.00      1348\n",
      "         2.0       0.55      0.10      0.17     10652\n",
      "\n",
      "    accuracy                           0.85     76104\n",
      "   macro avg       0.47      0.36      0.36     76104\n",
      "weighted avg       0.80      0.85      0.80     76104\n",
      "\n"
     ]
    },
    {
     "name": "stderr",
     "output_type": "stream",
     "text": [
      "c:\\Users\\corkr\\anaconda3\\Lib\\site-packages\\sklearn\\metrics\\_classification.py:1509: UndefinedMetricWarning: Precision is ill-defined and being set to 0.0 in labels with no predicted samples. Use `zero_division` parameter to control this behavior.\n",
      "  _warn_prf(average, modifier, f\"{metric.capitalize()} is\", len(result))\n",
      "c:\\Users\\corkr\\anaconda3\\Lib\\site-packages\\sklearn\\metrics\\_classification.py:1509: UndefinedMetricWarning: Precision is ill-defined and being set to 0.0 in labels with no predicted samples. Use `zero_division` parameter to control this behavior.\n",
      "  _warn_prf(average, modifier, f\"{metric.capitalize()} is\", len(result))\n",
      "c:\\Users\\corkr\\anaconda3\\Lib\\site-packages\\sklearn\\metrics\\_classification.py:1509: UndefinedMetricWarning: Precision is ill-defined and being set to 0.0 in labels with no predicted samples. Use `zero_division` parameter to control this behavior.\n",
      "  _warn_prf(average, modifier, f\"{metric.capitalize()} is\", len(result))\n"
     ]
    }
   ],
   "source": [
    "from sklearn.ensemble import BaggingClassifier\n",
    "\n",
    "bagging_clf = BaggingClassifier(\n",
    "    n_estimators=50,      \n",
    "    max_samples=0.6,      \n",
    "    max_features=0.7,     \n",
    "    random_state=1\n",
    ")\n",
    "\n",
    "bagging_clf.fit(x_train, y_train)\n",
    "y_pred = bagging_clf.predict(x_test)\n",
    "\n",
    "accuracy =accuracy_score(y_test, y_pred)\n",
    "print(\"Accuracy:\", accuracy_score(y_test, y_pred))\n",
    "conf_matrix_log = confusion_matrix(y_test, y_pred)\n",
    "print(\"Confusion Matrix:\\n\", conf_matrix_log)\n",
    "print(\"Classification Report:\\n\", classification_report(y_test, y_pred))\n",
    "\n",
    "Evaluation = Evaluation._append({\n",
    "    \"Model\": \"Bagging\",\n",
    "    \"Accuracy\": accuracy,\n",
    "    \"no diabetes f1 score\": report['0']['f1-score'],\n",
    "    \"prediabetes f1 score\": report['1']['f1-score'],\n",
    "    \"diabetes f1 score\": report['2']['f1-score']\n",
    "    \n",
    "}, ignore_index= True)"
   ]
  },
  {
   "cell_type": "code",
   "execution_count": 120,
   "metadata": {},
   "outputs": [
    {
     "name": "stdout",
     "output_type": "stream",
     "text": [
      "Best Parameters: {'n_estimators': 50, 'min_samples_split': 2, 'min_samples_leaf': 1, 'max_depth': 30, 'bootstrap': False}\n"
     ]
    }
   ],
   "source": [
    "# hyperparameter tuning for random forest\n",
    "from sklearn.ensemble import RandomForestClassifier\n",
    "from sklearn.model_selection import RandomizedSearchCV\n",
    "\n",
    "param_dist = {\n",
    "    'n_estimators': [50, 100, 200],\n",
    "    'max_depth': [10, 20, 30],\n",
    "    'min_samples_split': [2, 5, 10],\n",
    "    'min_samples_leaf': [1, 2, 4],\n",
    "    'bootstrap': [True, False]\n",
    "}\n",
    "\n",
    "rf = RandomForestClassifier()\n",
    "random_search = RandomizedSearchCV(rf, param_distributions=param_dist, n_iter=20, cv=5, scoring=f1_scorer, n_jobs=-1)\n",
    "random_search.fit(x_train, y_train)\n",
    "\n",
    "print(\"Best Parameters:\", random_search.best_params_)\n"
   ]
  },
  {
   "cell_type": "code",
   "execution_count": 121,
   "metadata": {},
   "outputs": [
    {
     "name": "stdout",
     "output_type": "stream",
     "text": [
      "Accuracy: 0.8314\n",
      "Confusion Matrix:\n",
      " [[60886   153  3065]\n",
      " [ 1173     4   171]\n",
      " [ 8231    35  2386]]\n",
      "Classification Report:\n",
      "               precision    recall  f1-score   support\n",
      "\n",
      "         0.0       0.87      0.95      0.91     64104\n",
      "         1.0       0.02      0.00      0.01      1348\n",
      "         2.0       0.42      0.22      0.29     10652\n",
      "\n",
      "    accuracy                           0.83     76104\n",
      "   macro avg       0.44      0.39      0.40     76104\n",
      "weighted avg       0.79      0.83      0.80     76104\n",
      "\n"
     ]
    },
    {
     "ename": "KeyError",
     "evalue": "'0'",
     "output_type": "error",
     "traceback": [
      "\u001b[1;31m---------------------------------------------------------------------------\u001b[0m",
      "\u001b[1;31mKeyError\u001b[0m                                  Traceback (most recent call last)",
      "Cell \u001b[1;32mIn[121], line 23\u001b[0m\n\u001b[0;32m     17\u001b[0m \u001b[38;5;28mprint\u001b[39m(\u001b[38;5;124m\"\u001b[39m\u001b[38;5;124mConfusion Matrix:\u001b[39m\u001b[38;5;130;01m\\n\u001b[39;00m\u001b[38;5;124m\"\u001b[39m, conf_matrix_log)\n\u001b[0;32m     18\u001b[0m \u001b[38;5;28mprint\u001b[39m(\u001b[38;5;124m\"\u001b[39m\u001b[38;5;124mClassification Report:\u001b[39m\u001b[38;5;130;01m\\n\u001b[39;00m\u001b[38;5;124m\"\u001b[39m, classification_report(y_test, rf_pred))\n\u001b[0;32m     20\u001b[0m Evaluation \u001b[38;5;241m=\u001b[39m Evaluation\u001b[38;5;241m.\u001b[39m_append({\n\u001b[0;32m     21\u001b[0m     \u001b[38;5;124m\"\u001b[39m\u001b[38;5;124mModel\u001b[39m\u001b[38;5;124m\"\u001b[39m: \u001b[38;5;124m\"\u001b[39m\u001b[38;5;124mRandom Forest\u001b[39m\u001b[38;5;124m\"\u001b[39m,\n\u001b[0;32m     22\u001b[0m     \u001b[38;5;124m\"\u001b[39m\u001b[38;5;124mAccuracy\u001b[39m\u001b[38;5;124m\"\u001b[39m: accuracy,\n\u001b[1;32m---> 23\u001b[0m     \u001b[38;5;124m\"\u001b[39m\u001b[38;5;124mno diabetes f1 score\u001b[39m\u001b[38;5;124m\"\u001b[39m: report[\u001b[38;5;124m'\u001b[39m\u001b[38;5;124m0\u001b[39m\u001b[38;5;124m'\u001b[39m][\u001b[38;5;124m'\u001b[39m\u001b[38;5;124mf1-score\u001b[39m\u001b[38;5;124m'\u001b[39m],\n\u001b[0;32m     24\u001b[0m     \u001b[38;5;124m\"\u001b[39m\u001b[38;5;124mprediabetes f1 score\u001b[39m\u001b[38;5;124m\"\u001b[39m: report[\u001b[38;5;124m'\u001b[39m\u001b[38;5;124m1\u001b[39m\u001b[38;5;124m'\u001b[39m][\u001b[38;5;124m'\u001b[39m\u001b[38;5;124mf1-score\u001b[39m\u001b[38;5;124m'\u001b[39m],\n\u001b[0;32m     25\u001b[0m     \u001b[38;5;124m\"\u001b[39m\u001b[38;5;124mdiabetes f1 score\u001b[39m\u001b[38;5;124m\"\u001b[39m: report[\u001b[38;5;124m'\u001b[39m\u001b[38;5;124m2\u001b[39m\u001b[38;5;124m'\u001b[39m][\u001b[38;5;124m'\u001b[39m\u001b[38;5;124mf1-score\u001b[39m\u001b[38;5;124m'\u001b[39m]\n\u001b[0;32m     26\u001b[0m     \n\u001b[0;32m     27\u001b[0m }, ignore_index\u001b[38;5;241m=\u001b[39m \u001b[38;5;28;01mTrue\u001b[39;00m)\n",
      "\u001b[1;31mKeyError\u001b[0m: '0'"
     ]
    }
   ],
   "source": [
    "#Best Parameters: {'n_estimators': 50, 'min_samples_split': 2, 'min_samples_leaf': 1, 'max_depth': 30, 'bootstrap': False}\n",
    "rf_clf = RandomForestClassifier(\n",
    "    n_estimators=50,      \n",
    "    min_samples_split=2,   \n",
    "    min_samples_leaf=1,    \n",
    "    max_depth=30,          \n",
    "    bootstrap=False,        \n",
    "    random_state=1\n",
    ")\n",
    "\n",
    "rf_clf.fit(x_train, y_train)\n",
    "rf_pred = rf_clf.predict(x_test)\n",
    "\n",
    "accuracy = accuracy_score(y_test, rf_pred)\n",
    "print(f\"Accuracy: {accuracy:.4f}\")\n",
    "conf_matrix_log = confusion_matrix(y_test, rf_pred)\n",
    "print(\"Confusion Matrix:\\n\", conf_matrix_log)\n",
    "print(\"Classification Report:\\n\", classification_report(y_test, rf_pred))\n",
    "\n",
    "Evaluation = Evaluation._append({\n",
    "    \"Model\": \"Random Forest\",\n",
    "    \"Accuracy\": accuracy,\n",
    "    \"no diabetes f1 score\": report['0']['f1-score'],\n",
    "    \"prediabetes f1 score\": report['1']['f1-score'],\n",
    "    \"diabetes f1 score\": report['2']['f1-score']\n",
    "    \n",
    "}, ignore_index= True)"
   ]
  },
  {
   "cell_type": "code",
   "execution_count": 128,
   "metadata": {},
   "outputs": [
    {
     "name": "stdout",
     "output_type": "stream",
     "text": [
      "Accuracy: 0.6855\n",
      "Confusion Matrix:\n",
      " [[44175   885 19044]\n",
      " [  523    15   810]\n",
      " [ 2510   163  7979]]\n",
      "Classification Report:\n",
      "               precision    recall  f1-score   support\n",
      "\n",
      "         0.0       0.94      0.69      0.79     64104\n",
      "         1.0       0.01      0.01      0.01      1348\n",
      "         2.0       0.29      0.75      0.41     10652\n",
      "\n",
      "    accuracy                           0.69     76104\n",
      "   macro avg       0.41      0.48      0.41     76104\n",
      "weighted avg       0.83      0.69      0.73     76104\n",
      "\n"
     ]
    }
   ],
   "source": [
    "\n",
    "rf_clf.fit(X_US, yus)\n",
    "rf_pred = rf_clf.predict(x_test)\n",
    "\n",
    "accuracy = accuracy_score(y_test, rf_pred)\n",
    "print(f\"Accuracy: {accuracy:.4f}\")\n",
    "conf_matrix_log = confusion_matrix(y_test, rf_pred)\n",
    "print(\"Confusion Matrix:\\n\", conf_matrix_log)\n",
    "print(\"Classification Report:\\n\", classification_report(y_test, rf_pred))"
   ]
  },
  {
   "cell_type": "code",
   "execution_count": 129,
   "metadata": {},
   "outputs": [
    {
     "name": "stdout",
     "output_type": "stream",
     "text": [
      "Accuracy: 0.5603\n",
      "Confusion Matrix:\n",
      " [[36734 15492 11878]\n",
      " [  343   469   536]\n",
      " [ 1686  3527  5439]]\n",
      "Classification Report:\n",
      "               precision    recall  f1-score   support\n",
      "\n",
      "         0.0       0.95      0.57      0.71     64104\n",
      "         1.0       0.02      0.35      0.05      1348\n",
      "         2.0       0.30      0.51      0.38     10652\n",
      "\n",
      "    accuracy                           0.56     76104\n",
      "   macro avg       0.43      0.48      0.38     76104\n",
      "weighted avg       0.84      0.56      0.66     76104\n",
      "\n"
     ]
    }
   ],
   "source": [
    "\n",
    "rf_clf.fit(XU, yu)\n",
    "rf_pred = rf_clf.predict(x_test)\n",
    "\n",
    "accuracy = accuracy_score(y_test, rf_pred)\n",
    "print(f\"Accuracy: {accuracy:.4f}\")\n",
    "conf_matrix_log = confusion_matrix(y_test, rf_pred)\n",
    "print(\"Confusion Matrix:\\n\", conf_matrix_log)\n",
    "print(\"Classification Report:\\n\", classification_report(y_test, rf_pred))"
   ]
  },
  {
   "cell_type": "markdown",
   "metadata": {},
   "source": [
    "## DNN"
   ]
  },
  {
   "cell_type": "code",
   "execution_count": null,
   "metadata": {},
   "outputs": [
    {
     "name": "stdout",
     "output_type": "stream",
     "text": [
      "\u001b[1m2379/2379\u001b[0m \u001b[32m━━━━━━━━━━━━━━━━━━━━\u001b[0m\u001b[37m\u001b[0m \u001b[1m2s\u001b[0m 999us/step\n",
      "0.8484442342058236\n",
      "Confusion Matrix:\n",
      " [[62864     0  1240]\n",
      " [ 1252     0    96]\n",
      " [ 8946     0  1706]]\n",
      "Classification Report:\n",
      "               precision    recall  f1-score   support\n",
      "\n",
      "         0.0       0.86      0.98      0.92     64104\n",
      "         1.0       0.00      0.00      0.00      1348\n",
      "         2.0       0.56      0.16      0.25     10652\n",
      "\n",
      "    accuracy                           0.85     76104\n",
      "   macro avg       0.47      0.38      0.39     76104\n",
      "weighted avg       0.80      0.85      0.81     76104\n",
      "\n",
      "Test Set Accuracy: 0.8484\n"
     ]
    },
    {
     "name": "stderr",
     "output_type": "stream",
     "text": [
      "c:\\Users\\corkr\\anaconda3\\Lib\\site-packages\\sklearn\\metrics\\_classification.py:1509: UndefinedMetricWarning: Precision is ill-defined and being set to 0.0 in labels with no predicted samples. Use `zero_division` parameter to control this behavior.\n",
      "  _warn_prf(average, modifier, f\"{metric.capitalize()} is\", len(result))\n",
      "c:\\Users\\corkr\\anaconda3\\Lib\\site-packages\\sklearn\\metrics\\_classification.py:1509: UndefinedMetricWarning: Precision is ill-defined and being set to 0.0 in labels with no predicted samples. Use `zero_division` parameter to control this behavior.\n",
      "  _warn_prf(average, modifier, f\"{metric.capitalize()} is\", len(result))\n",
      "c:\\Users\\corkr\\anaconda3\\Lib\\site-packages\\sklearn\\metrics\\_classification.py:1509: UndefinedMetricWarning: Precision is ill-defined and being set to 0.0 in labels with no predicted samples. Use `zero_division` parameter to control this behavior.\n",
      "  _warn_prf(average, modifier, f\"{metric.capitalize()} is\", len(result))\n"
     ]
    }
   ],
   "source": [
    "# Deep Learning\n",
    "from sklearn.metrics import accuracy_score, classification_report, confusion_matrix\n",
    "from sklearn.preprocessing import StandardScaler\n",
    "import numpy as np\n",
    "import tensorflow as tf\n",
    "from tensorflow.keras import Sequential\n",
    "from tensorflow.keras.layers import Dense, Dropout\n",
    "from tensorflow.keras.optimizers import Adam\n",
    "from sklearn.preprocessing import StandardScaler\n",
    "from tensorflow.keras.utils import to_categorical\n",
    "\n",
    "# One-hot encode the target variable\n",
    "y = to_categorical(y_train)        \n",
    "\n",
    "\n",
    "scaler = StandardScaler()\n",
    "x = scaler.fit_transform(x_train)\n",
    "x_test_scaled = scaler.transform(x_test)\n",
    "\n",
    "\n",
    "model = Sequential([\n",
    "    Dense(64, activation='relu', input_shape=(x.shape[1],)),\n",
    "    Dropout(0.1),  \n",
    "    Dense(64, activation='relu'),\n",
    "    Dropout(0.1),\n",
    "    Dense(32, activation='relu'),\n",
    "    Dense(3, activation='softmax')  \n",
    "])\n",
    "\n",
    "\n",
    "model.compile(optimizer=Adam(learning_rate=0.001), loss='categorical_crossentropy', metrics=['accuracy'])\n",
    "model.fit(x, y, epochs=50, batch_size=64, validation_split=0.25)\n",
    "\n",
    "y_pred = model.predict(x_test_scaled)\n",
    "y_pred = y_pred.argmax(axis=1)\n",
    "accuracy = accuracy_score(y_test, y_pred)\n",
    "\n",
    "print(accuracy)\n",
    "conf_matrix_log = confusion_matrix(y_test, y_pred)\n",
    "print(\"Confusion Matrix:\\n\", conf_matrix_log)\n",
    "print(\"Classification Report:\\n\", classification_report(y_test, y_pred))\n",
    "\n",
    "\n",
    "Evaluation = Evaluation._append({\n",
    "    \"Model\": \"DNN\",\n",
    "    \"Accuracy\": accuracy,\n",
    "    \"no diabetes f1 score\": report['0']['f1-score'],\n",
    "    \"prediabetes f1 score\": report['1']['f1-score'],\n",
    "    \"diabetes f1 score\": report['2']['f1-score']\n",
    "}, ignore_index= True)\n",
    "\n",
    "\n",
    "print(f\"Test Set Accuracy: {accuracy:.4f}\")\n"
   ]
  },
  {
   "cell_type": "code",
   "execution_count": 125,
   "metadata": {},
   "outputs": [
    {
     "name": "stdout",
     "output_type": "stream",
     "text": [
      "Trial 10 Complete [00h 01m 33s]\n",
      "val_f1_score: 0.36274994909763336\n",
      "\n",
      "Best val_f1_score So Far: 0.40114907920360565\n",
      "Total elapsed time: 00h 13m 39s\n"
     ]
    }
   ],
   "source": [
    "# hyperparameter tuning for tensorflow\n",
    "import keras_tuner as kt\n",
    "from tensorflow import keras\n",
    "from keras.utils import to_categorical\n",
    "from tensorflow.keras import backend as K\n",
    "import tensorflow as tf\n",
    "\n",
    "def f1_score(y_true, y_pred):\n",
    "    y_pred = tf.round(y_pred)  # Convert probabilities to binary values\n",
    "    tp = K.sum(K.cast(y_true * y_pred, 'float'), axis=0)\n",
    "    fp = K.sum(K.cast((1 - y_true) * y_pred, 'float'), axis=0)\n",
    "    fn = K.sum(K.cast(y_true * (1 - y_pred), 'float'), axis=0)\n",
    "\n",
    "    precision = tp / (tp + fp + K.epsilon())  # Avoid division by zero\n",
    "    recall = tp / (tp + fn + K.epsilon())\n",
    "\n",
    "    f1 = 2 * (precision * recall) / (precision + recall + K.epsilon())  # Compute F1-score\n",
    "    return K.mean(f1)  # Average across all classes\n",
    "\n",
    "\n",
    "def build_model(hp):\n",
    "    model = keras.Sequential()\n",
    "    model.add(keras.layers.Dense(hp.Int('units', min_value=32, max_value=200, step=32), activation='relu'))\n",
    "    model.add(keras.layers.Dense(3, activation='softmax'))  # Adjust for classification/regression\n",
    "\n",
    "    model.compile(\n",
    "        optimizer=keras.optimizers.Adam(learning_rate=hp.Choice('lr', [0.001, 0.01, 0.1])),\n",
    "        loss='categorical_crossentropy',\n",
    "        metrics=[f1_score]\n",
    "    )\n",
    "    return model\n",
    "\n",
    "tuner = kt.RandomSearch(build_model, objective=kt.Objective('val_f1_score', direction='max'),\n",
    "                        max_trials=10, executions_per_trial=2, directory='my_dir1')\n",
    "\n",
    "\n",
    "y_train_encoded = to_categorical(y_train, num_classes=3)\n",
    "y_test_encoded = to_categorical(y_test, num_classes=3)\n",
    "\n",
    "\n",
    "tuner.search(x_train, y_train_encoded, epochs=10, validation_data=(x_test, y_test_encoded))\n"
   ]
  },
  {
   "cell_type": "code",
   "execution_count": null,
   "metadata": {},
   "outputs": [
    {
     "name": "stdout",
     "output_type": "stream",
     "text": [
      "Epoch 1/10\n",
      "\u001b[1m5550/5550\u001b[0m \u001b[32m━━━━━━━━━━━━━━━━━━━━\u001b[0m\u001b[37m\u001b[0m \u001b[1m6s\u001b[0m 855us/step - f1_score: 0.3580 - loss: 0.4767 - val_f1_score: 0.3609 - val_loss: 0.4022\n",
      "Epoch 2/10\n",
      "\u001b[1m5550/5550\u001b[0m \u001b[32m━━━━━━━━━━━━━━━━━━━━\u001b[0m\u001b[37m\u001b[0m \u001b[1m4s\u001b[0m 710us/step - f1_score: 0.3638 - loss: 0.4020 - val_f1_score: 0.3652 - val_loss: 0.3958\n",
      "Epoch 3/10\n",
      "\u001b[1m5550/5550\u001b[0m \u001b[32m━━━━━━━━━━━━━━━━━━━━\u001b[0m\u001b[37m\u001b[0m \u001b[1m4s\u001b[0m 704us/step - f1_score: 0.3670 - loss: 0.3999 - val_f1_score: 0.4095 - val_loss: 0.3984\n",
      "Epoch 4/10\n",
      "\u001b[1m5550/5550\u001b[0m \u001b[32m━━━━━━━━━━━━━━━━━━━━\u001b[0m\u001b[37m\u001b[0m \u001b[1m4s\u001b[0m 702us/step - f1_score: 0.3683 - loss: 0.3970 - val_f1_score: 0.3730 - val_loss: 0.3920\n",
      "Epoch 5/10\n",
      "\u001b[1m5550/5550\u001b[0m \u001b[32m━━━━━━━━━━━━━━━━━━━━\u001b[0m\u001b[37m\u001b[0m \u001b[1m4s\u001b[0m 697us/step - f1_score: 0.3675 - loss: 0.3965 - val_f1_score: 0.3603 - val_loss: 0.3922\n",
      "Epoch 6/10\n",
      "\u001b[1m5550/5550\u001b[0m \u001b[32m━━━━━━━━━━━━━━━━━━━━\u001b[0m\u001b[37m\u001b[0m \u001b[1m4s\u001b[0m 699us/step - f1_score: 0.3691 - loss: 0.3962 - val_f1_score: 0.3839 - val_loss: 0.3925\n",
      "Epoch 7/10\n",
      "\u001b[1m5550/5550\u001b[0m \u001b[32m━━━━━━━━━━━━━━━━━━━━\u001b[0m\u001b[37m\u001b[0m \u001b[1m4s\u001b[0m 701us/step - f1_score: 0.3690 - loss: 0.3968 - val_f1_score: 0.3506 - val_loss: 0.3936\n",
      "Epoch 8/10\n",
      "\u001b[1m5550/5550\u001b[0m \u001b[32m━━━━━━━━━━━━━━━━━━━━\u001b[0m\u001b[37m\u001b[0m \u001b[1m4s\u001b[0m 701us/step - f1_score: 0.3701 - loss: 0.3959 - val_f1_score: 0.3770 - val_loss: 0.3943\n",
      "Epoch 9/10\n",
      "\u001b[1m5550/5550\u001b[0m \u001b[32m━━━━━━━━━━━━━━━━━━━━\u001b[0m\u001b[37m\u001b[0m \u001b[1m4s\u001b[0m 701us/step - f1_score: 0.3678 - loss: 0.3982 - val_f1_score: 0.4057 - val_loss: 0.3949\n",
      "Epoch 10/10\n",
      "\u001b[1m5550/5550\u001b[0m \u001b[32m━━━━━━━━━━━━━━━━━━━━\u001b[0m\u001b[37m\u001b[0m \u001b[1m4s\u001b[0m 698us/step - f1_score: 0.3711 - loss: 0.3948 - val_f1_score: 0.3472 - val_loss: 0.3955\n",
      "\u001b[1m2379/2379\u001b[0m \u001b[32m━━━━━━━━━━━━━━━━━━━━\u001b[0m\u001b[37m\u001b[0m \u001b[1m1s\u001b[0m 502us/step\n",
      "Accuracy: 0.8487\n",
      "Confusion Matrix:\n",
      " [[63455     0   649]\n",
      " [ 1296     0    52]\n",
      " [ 9521     0  1131]]\n",
      "Classification Report:\n",
      "               precision    recall  f1-score   support\n",
      "\n",
      "         0.0       0.85      0.99      0.92     64104\n",
      "         1.0       0.00      0.00      0.00      1348\n",
      "         2.0       0.62      0.11      0.18     10652\n",
      "\n",
      "    accuracy                           0.85     76104\n",
      "   macro avg       0.49      0.37      0.37     76104\n",
      "weighted avg       0.81      0.85      0.80     76104\n",
      "\n"
     ]
    },
    {
     "ename": "KeyError",
     "evalue": "'0'",
     "output_type": "error",
     "traceback": [
      "\u001b[1;31m---------------------------------------------------------------------------\u001b[0m",
      "\u001b[1;31mKeyError\u001b[0m                                  Traceback (most recent call last)",
      "Cell \u001b[1;32mIn[126], line 16\u001b[0m\n\u001b[0;32m     10\u001b[0m \u001b[38;5;28mprint\u001b[39m(\u001b[38;5;124m\"\u001b[39m\u001b[38;5;124mConfusion Matrix:\u001b[39m\u001b[38;5;130;01m\\n\u001b[39;00m\u001b[38;5;124m\"\u001b[39m, conf_matrix_log)\n\u001b[0;32m     11\u001b[0m \u001b[38;5;28mprint\u001b[39m(\u001b[38;5;124m\"\u001b[39m\u001b[38;5;124mClassification Report:\u001b[39m\u001b[38;5;130;01m\\n\u001b[39;00m\u001b[38;5;124m\"\u001b[39m, classification_report(y_test, pred_class))\n\u001b[0;32m     13\u001b[0m Evaluation \u001b[38;5;241m=\u001b[39m Evaluation\u001b[38;5;241m.\u001b[39m_append({\n\u001b[0;32m     14\u001b[0m     \u001b[38;5;124m\"\u001b[39m\u001b[38;5;124mModel\u001b[39m\u001b[38;5;124m\"\u001b[39m: \u001b[38;5;124m\"\u001b[39m\u001b[38;5;124mDNN\u001b[39m\u001b[38;5;124m\"\u001b[39m,\n\u001b[0;32m     15\u001b[0m     \u001b[38;5;124m\"\u001b[39m\u001b[38;5;124mAccuracy\u001b[39m\u001b[38;5;124m\"\u001b[39m: accuracy,\n\u001b[1;32m---> 16\u001b[0m     \u001b[38;5;124m\"\u001b[39m\u001b[38;5;124mno diabetes f1 score\u001b[39m\u001b[38;5;124m\"\u001b[39m: report[\u001b[38;5;124m'\u001b[39m\u001b[38;5;124m0\u001b[39m\u001b[38;5;124m'\u001b[39m][\u001b[38;5;124m'\u001b[39m\u001b[38;5;124mf1-score\u001b[39m\u001b[38;5;124m'\u001b[39m],\n\u001b[0;32m     17\u001b[0m     \u001b[38;5;124m\"\u001b[39m\u001b[38;5;124mprediabetes f1 score\u001b[39m\u001b[38;5;124m\"\u001b[39m: report[\u001b[38;5;124m'\u001b[39m\u001b[38;5;124m1\u001b[39m\u001b[38;5;124m'\u001b[39m][\u001b[38;5;124m'\u001b[39m\u001b[38;5;124mf1-score\u001b[39m\u001b[38;5;124m'\u001b[39m],\n\u001b[0;32m     18\u001b[0m     \u001b[38;5;124m\"\u001b[39m\u001b[38;5;124mdiabetes f1 score\u001b[39m\u001b[38;5;124m\"\u001b[39m: report[\u001b[38;5;124m'\u001b[39m\u001b[38;5;124m2\u001b[39m\u001b[38;5;124m'\u001b[39m][\u001b[38;5;124m'\u001b[39m\u001b[38;5;124mf1-score\u001b[39m\u001b[38;5;124m'\u001b[39m]\n\u001b[0;32m     19\u001b[0m }, ignore_index\u001b[38;5;241m=\u001b[39m \u001b[38;5;28;01mTrue\u001b[39;00m)\n",
      "\u001b[1;31mKeyError\u001b[0m: '0'"
     ]
    }
   ],
   "source": [
    "best_hps = tuner.get_best_hyperparameters(num_trials=1)[0]\n",
    "model = tuner.hypermodel.build(best_hps)\n",
    "model.fit(x_train, y_train_encoded, epochs=10, validation_data=(x_test, y_test_encoded))\n",
    "pred_class = model.predict(x_test)\n",
    "pred_class = pred_class.argmax(axis\n",
    "=1)\n",
    "accuracy = accuracy_score(y_test, pred_class)\n",
    "print(f\"Accuracy: {accuracy:.4f}\")\n",
    "conf_matrix_log = confusion_matrix(y_test, pred_class)\n",
    "print(\"Confusion Matrix:\\n\", conf_matrix_log)\n",
    "print(\"Classification Report:\\n\", classification_report(y_test, pred_class))\n",
    "\n",
    "Evaluation = Evaluation._append({\n",
    "    \"Model\": \"DNN\",\n",
    "    \"Accuracy\": accuracy,\n",
    "    \"no diabetes f1 score\": report['0']['f1-score'],\n",
    "    \"prediabetes f1 score\": report['1']['f1-score'],\n",
    "    \"diabetes f1 score\": report['2']['f1-score']\n",
    "}, ignore_index= True)\n"
   ]
  },
  {
   "cell_type": "code",
   "execution_count": 127,
   "metadata": {},
   "outputs": [
    {
     "name": "stdout",
     "output_type": "stream",
     "text": [
      "Epoch 1/10\n",
      "\u001b[1m5550/5550\u001b[0m \u001b[32m━━━━━━━━━━━━━━━━━━━━\u001b[0m\u001b[37m\u001b[0m \u001b[1m5s\u001b[0m 675us/step - f1_score: 0.3667 - loss: 0.4184 - val_f1_score: 0.2057 - val_loss: 0.9651\n",
      "Epoch 2/10\n",
      "\u001b[1m5550/5550\u001b[0m \u001b[32m━━━━━━━━━━━━━━━━━━━━\u001b[0m\u001b[37m\u001b[0m \u001b[1m4s\u001b[0m 628us/step - f1_score: 0.3658 - loss: 0.4005 - val_f1_score: 0.1795 - val_loss: 1.1010\n",
      "Epoch 3/10\n",
      "\u001b[1m5550/5550\u001b[0m \u001b[32m━━━━━━━━━━━━━━━━━━━━\u001b[0m\u001b[37m\u001b[0m \u001b[1m3s\u001b[0m 616us/step - f1_score: 0.3653 - loss: 0.3974 - val_f1_score: 0.1796 - val_loss: 1.0609\n",
      "Epoch 4/10\n",
      "\u001b[1m5550/5550\u001b[0m \u001b[32m━━━━━━━━━━━━━━━━━━━━\u001b[0m\u001b[37m\u001b[0m \u001b[1m3s\u001b[0m 613us/step - f1_score: 0.3635 - loss: 0.3979 - val_f1_score: 0.1640 - val_loss: 1.2174\n",
      "Epoch 5/10\n",
      "\u001b[1m5550/5550\u001b[0m \u001b[32m━━━━━━━━━━━━━━━━━━━━\u001b[0m\u001b[37m\u001b[0m \u001b[1m3s\u001b[0m 620us/step - f1_score: 0.3612 - loss: 0.3975 - val_f1_score: 0.1872 - val_loss: 1.0226\n",
      "Epoch 6/10\n",
      "\u001b[1m5550/5550\u001b[0m \u001b[32m━━━━━━━━━━━━━━━━━━━━\u001b[0m\u001b[37m\u001b[0m \u001b[1m3s\u001b[0m 622us/step - f1_score: 0.3693 - loss: 0.3951 - val_f1_score: 0.1911 - val_loss: 0.9961\n",
      "Epoch 7/10\n",
      "\u001b[1m5550/5550\u001b[0m \u001b[32m━━━━━━━━━━━━━━━━━━━━\u001b[0m\u001b[37m\u001b[0m \u001b[1m3s\u001b[0m 615us/step - f1_score: 0.3669 - loss: 0.3950 - val_f1_score: 0.1878 - val_loss: 0.9925\n",
      "Epoch 8/10\n",
      "\u001b[1m5550/5550\u001b[0m \u001b[32m━━━━━━━━━━━━━━━━━━━━\u001b[0m\u001b[37m\u001b[0m \u001b[1m4s\u001b[0m 629us/step - f1_score: 0.3634 - loss: 0.3967 - val_f1_score: 0.1916 - val_loss: 1.0413\n",
      "Epoch 9/10\n",
      "\u001b[1m5550/5550\u001b[0m \u001b[32m━━━━━━━━━━━━━━━━━━━━\u001b[0m\u001b[37m\u001b[0m \u001b[1m4s\u001b[0m 635us/step - f1_score: 0.3717 - loss: 0.3951 - val_f1_score: 0.1924 - val_loss: 1.0009\n",
      "Epoch 10/10\n",
      "\u001b[1m5550/5550\u001b[0m \u001b[32m━━━━━━━━━━━━━━━━━━━━\u001b[0m\u001b[37m\u001b[0m \u001b[1m4s\u001b[0m 644us/step - f1_score: 0.3683 - loss: 0.3910 - val_f1_score: 0.1919 - val_loss: 0.9949\n",
      "\u001b[1m2379/2379\u001b[0m \u001b[32m━━━━━━━━━━━━━━━━━━━━\u001b[0m\u001b[37m\u001b[0m \u001b[1m1s\u001b[0m 498us/step\n",
      "Accuracy: 0.8503\n",
      "Confusion Matrix:\n",
      " [[62711     0  1393]\n",
      " [ 1230     0   118]\n",
      " [ 8654     0  1998]]\n",
      "Classification Report:\n",
      "               precision    recall  f1-score   support\n",
      "\n",
      "         0.0       0.86      0.98      0.92     64104\n",
      "         1.0       0.00      0.00      0.00      1348\n",
      "         2.0       0.57      0.19      0.28     10652\n",
      "\n",
      "    accuracy                           0.85     76104\n",
      "   macro avg       0.48      0.39      0.40     76104\n",
      "weighted avg       0.81      0.85      0.81     76104\n",
      "\n"
     ]
    },
    {
     "ename": "KeyError",
     "evalue": "'0'",
     "output_type": "error",
     "traceback": [
      "\u001b[1;31m---------------------------------------------------------------------------\u001b[0m",
      "\u001b[1;31mKeyError\u001b[0m                                  Traceback (most recent call last)",
      "Cell \u001b[1;32mIn[127], line 16\u001b[0m\n\u001b[0;32m     10\u001b[0m \u001b[38;5;28mprint\u001b[39m(\u001b[38;5;124m\"\u001b[39m\u001b[38;5;124mConfusion Matrix:\u001b[39m\u001b[38;5;130;01m\\n\u001b[39;00m\u001b[38;5;124m\"\u001b[39m, conf_matrix_log)\n\u001b[0;32m     11\u001b[0m \u001b[38;5;28mprint\u001b[39m(\u001b[38;5;124m\"\u001b[39m\u001b[38;5;124mClassification Report:\u001b[39m\u001b[38;5;130;01m\\n\u001b[39;00m\u001b[38;5;124m\"\u001b[39m, classification_report(y_test, pred_class))\n\u001b[0;32m     13\u001b[0m Evaluation \u001b[38;5;241m=\u001b[39m Evaluation\u001b[38;5;241m.\u001b[39m_append({\n\u001b[0;32m     14\u001b[0m     \u001b[38;5;124m\"\u001b[39m\u001b[38;5;124mModel\u001b[39m\u001b[38;5;124m\"\u001b[39m: \u001b[38;5;124m\"\u001b[39m\u001b[38;5;124mDNN\u001b[39m\u001b[38;5;124m\"\u001b[39m,\n\u001b[0;32m     15\u001b[0m     \u001b[38;5;124m\"\u001b[39m\u001b[38;5;124mAccuracy\u001b[39m\u001b[38;5;124m\"\u001b[39m: accuracy,\n\u001b[1;32m---> 16\u001b[0m     \u001b[38;5;124m\"\u001b[39m\u001b[38;5;124mno diabetes f1 score\u001b[39m\u001b[38;5;124m\"\u001b[39m: report[\u001b[38;5;124m'\u001b[39m\u001b[38;5;124m0\u001b[39m\u001b[38;5;124m'\u001b[39m][\u001b[38;5;124m'\u001b[39m\u001b[38;5;124mf1-score\u001b[39m\u001b[38;5;124m'\u001b[39m],\n\u001b[0;32m     17\u001b[0m     \u001b[38;5;124m\"\u001b[39m\u001b[38;5;124mprediabetes f1 score\u001b[39m\u001b[38;5;124m\"\u001b[39m: report[\u001b[38;5;124m'\u001b[39m\u001b[38;5;124m1\u001b[39m\u001b[38;5;124m'\u001b[39m][\u001b[38;5;124m'\u001b[39m\u001b[38;5;124mf1-score\u001b[39m\u001b[38;5;124m'\u001b[39m],\n\u001b[0;32m     18\u001b[0m     \u001b[38;5;124m\"\u001b[39m\u001b[38;5;124mdiabetes f1 score\u001b[39m\u001b[38;5;124m\"\u001b[39m: report[\u001b[38;5;124m'\u001b[39m\u001b[38;5;124m2\u001b[39m\u001b[38;5;124m'\u001b[39m][\u001b[38;5;124m'\u001b[39m\u001b[38;5;124mf1-score\u001b[39m\u001b[38;5;124m'\u001b[39m]\n\u001b[0;32m     19\u001b[0m }, ignore_index\u001b[38;5;241m=\u001b[39m \u001b[38;5;28;01mTrue\u001b[39;00m)\n",
      "\u001b[1;31mKeyError\u001b[0m: '0'"
     ]
    }
   ],
   "source": [
    "best_hps = tuner.get_best_hyperparameters(num_trials=1)[0]\n",
    "model = tuner.hypermodel.build(best_hps)\n",
    "yus_encoded = to_categorical(yus, num_classes=3)\n",
    "model.fit(x_train, y_train_encoded, epochs=10, validation_data=(X_US, yus_encoded))\n",
    "pred_class = model.predict(x_test)\n",
    "pred_class = pred_class.argmax(axis=1)\n",
    "accuracy = accuracy_score(y_test, pred_class)\n",
    "print(f\"Accuracy: {accuracy:.4f}\")\n",
    "conf_matrix_log = confusion_matrix(y_test, pred_class)\n",
    "print(\"Confusion Matrix:\\n\", conf_matrix_log)\n",
    "print(\"Classification Report:\\n\", classification_report(y_test, pred_class))\n",
    "\n",
    "Evaluation = Evaluation._append({\n",
    "    \"Model\": \"DNN\",\n",
    "    \"Accuracy\": accuracy,\n",
    "    \"no diabetes f1 score\": report['0']['f1-score'],\n",
    "    \"prediabetes f1 score\": report['1']['f1-score'],\n",
    "    \"diabetes f1 score\": report['2']['f1-score']\n",
    "}, ignore_index= True)\n"
   ]
  },
  {
   "cell_type": "markdown",
   "metadata": {},
   "source": [
    "The logistic regression preformed very similar to the deep learning model. The logistic regression model will be the choice for integrating into production since it have has same evaluation metrics with fewer input variables. "
   ]
  },
  {
   "cell_type": "markdown",
   "metadata": {},
   "source": [
    "## Stack1\n"
   ]
  },
  {
   "cell_type": "markdown",
   "metadata": {},
   "source": [
    "## Overfitting"
   ]
  },
  {
   "cell_type": "code",
   "execution_count": 105,
   "metadata": {},
   "outputs": [
    {
     "ename": "TypeError",
     "evalue": "Cannot clone object '<statsmodels.discrete.discrete_model.MNLogit object at 0x0000029D87ED7BF0>' (type <class 'statsmodels.discrete.discrete_model.MNLogit'>): it does not seem to be a scikit-learn estimator as it does not implement a 'get_params' method.",
     "output_type": "error",
     "traceback": [
      "\u001b[1;31m---------------------------------------------------------------------------\u001b[0m",
      "\u001b[1;31mTypeError\u001b[0m                                 Traceback (most recent call last)",
      "Cell \u001b[1;32mIn[105], line 11\u001b[0m\n\u001b[0;32m      8\u001b[0m logistic_model \u001b[38;5;241m=\u001b[39m sm\u001b[38;5;241m.\u001b[39mMNLogit(y_train, sm\u001b[38;5;241m.\u001b[39madd_constant(x_train))\n\u001b[0;32m     10\u001b[0m kfold \u001b[38;5;241m=\u001b[39m KFold(n_splits\u001b[38;5;241m=\u001b[39m\u001b[38;5;241m5\u001b[39m, random_state\u001b[38;5;241m=\u001b[39m\u001b[38;5;241m1\u001b[39m, shuffle\u001b[38;5;241m=\u001b[39m\u001b[38;5;28;01mTrue\u001b[39;00m)\n\u001b[1;32m---> 11\u001b[0m results \u001b[38;5;241m=\u001b[39m cross_val_score(logistic_model, sm\u001b[38;5;241m.\u001b[39madd_constant(x_train), y_train, cv\u001b[38;5;241m=\u001b[39mkfold)\n\u001b[0;32m     12\u001b[0m \u001b[38;5;28mprint\u001b[39m(\u001b[38;5;124mf\u001b[39m\u001b[38;5;124m\"\u001b[39m\u001b[38;5;124mLogistic Regression: \u001b[39m\u001b[38;5;132;01m{\u001b[39;00mresults\u001b[38;5;241m.\u001b[39mmean()\u001b[38;5;132;01m:\u001b[39;00m\u001b[38;5;124m.4f\u001b[39m\u001b[38;5;132;01m}\u001b[39;00m\u001b[38;5;124m (\u001b[39m\u001b[38;5;132;01m{\u001b[39;00mresults\u001b[38;5;241m.\u001b[39mstd()\u001b[38;5;132;01m:\u001b[39;00m\u001b[38;5;124m.4f\u001b[39m\u001b[38;5;132;01m}\u001b[39;00m\u001b[38;5;124m)\u001b[39m\u001b[38;5;124m\"\u001b[39m)\n\u001b[0;32m     14\u001b[0m Evaluation\n",
      "File \u001b[1;32mc:\\Users\\corkr\\anaconda3\\Lib\\site-packages\\sklearn\\utils\\_param_validation.py:213\u001b[0m, in \u001b[0;36mvalidate_params.<locals>.decorator.<locals>.wrapper\u001b[1;34m(*args, **kwargs)\u001b[0m\n\u001b[0;32m    207\u001b[0m \u001b[38;5;28;01mtry\u001b[39;00m:\n\u001b[0;32m    208\u001b[0m     \u001b[38;5;28;01mwith\u001b[39;00m config_context(\n\u001b[0;32m    209\u001b[0m         skip_parameter_validation\u001b[38;5;241m=\u001b[39m(\n\u001b[0;32m    210\u001b[0m             prefer_skip_nested_validation \u001b[38;5;129;01mor\u001b[39;00m global_skip_validation\n\u001b[0;32m    211\u001b[0m         )\n\u001b[0;32m    212\u001b[0m     ):\n\u001b[1;32m--> 213\u001b[0m         \u001b[38;5;28;01mreturn\u001b[39;00m func(\u001b[38;5;241m*\u001b[39margs, \u001b[38;5;241m*\u001b[39m\u001b[38;5;241m*\u001b[39mkwargs)\n\u001b[0;32m    214\u001b[0m \u001b[38;5;28;01mexcept\u001b[39;00m InvalidParameterError \u001b[38;5;28;01mas\u001b[39;00m e:\n\u001b[0;32m    215\u001b[0m     \u001b[38;5;66;03m# When the function is just a wrapper around an estimator, we allow\u001b[39;00m\n\u001b[0;32m    216\u001b[0m     \u001b[38;5;66;03m# the function to delegate validation to the estimator, but we replace\u001b[39;00m\n\u001b[0;32m    217\u001b[0m     \u001b[38;5;66;03m# the name of the estimator by the name of the function in the error\u001b[39;00m\n\u001b[0;32m    218\u001b[0m     \u001b[38;5;66;03m# message to avoid confusion.\u001b[39;00m\n\u001b[0;32m    219\u001b[0m     msg \u001b[38;5;241m=\u001b[39m re\u001b[38;5;241m.\u001b[39msub(\n\u001b[0;32m    220\u001b[0m         \u001b[38;5;124mr\u001b[39m\u001b[38;5;124m\"\u001b[39m\u001b[38;5;124mparameter of \u001b[39m\u001b[38;5;124m\\\u001b[39m\u001b[38;5;124mw+ must be\u001b[39m\u001b[38;5;124m\"\u001b[39m,\n\u001b[0;32m    221\u001b[0m         \u001b[38;5;124mf\u001b[39m\u001b[38;5;124m\"\u001b[39m\u001b[38;5;124mparameter of \u001b[39m\u001b[38;5;132;01m{\u001b[39;00mfunc\u001b[38;5;241m.\u001b[39m\u001b[38;5;18m__qualname__\u001b[39m\u001b[38;5;132;01m}\u001b[39;00m\u001b[38;5;124m must be\u001b[39m\u001b[38;5;124m\"\u001b[39m,\n\u001b[0;32m    222\u001b[0m         \u001b[38;5;28mstr\u001b[39m(e),\n\u001b[0;32m    223\u001b[0m     )\n",
      "File \u001b[1;32mc:\\Users\\corkr\\anaconda3\\Lib\\site-packages\\sklearn\\model_selection\\_validation.py:719\u001b[0m, in \u001b[0;36mcross_val_score\u001b[1;34m(estimator, X, y, groups, scoring, cv, n_jobs, verbose, fit_params, params, pre_dispatch, error_score)\u001b[0m\n\u001b[0;32m    716\u001b[0m \u001b[38;5;66;03m# To ensure multimetric format is not supported\u001b[39;00m\n\u001b[0;32m    717\u001b[0m scorer \u001b[38;5;241m=\u001b[39m check_scoring(estimator, scoring\u001b[38;5;241m=\u001b[39mscoring)\n\u001b[1;32m--> 719\u001b[0m cv_results \u001b[38;5;241m=\u001b[39m cross_validate(\n\u001b[0;32m    720\u001b[0m     estimator\u001b[38;5;241m=\u001b[39mestimator,\n\u001b[0;32m    721\u001b[0m     X\u001b[38;5;241m=\u001b[39mX,\n\u001b[0;32m    722\u001b[0m     y\u001b[38;5;241m=\u001b[39my,\n\u001b[0;32m    723\u001b[0m     groups\u001b[38;5;241m=\u001b[39mgroups,\n\u001b[0;32m    724\u001b[0m     scoring\u001b[38;5;241m=\u001b[39m{\u001b[38;5;124m\"\u001b[39m\u001b[38;5;124mscore\u001b[39m\u001b[38;5;124m\"\u001b[39m: scorer},\n\u001b[0;32m    725\u001b[0m     cv\u001b[38;5;241m=\u001b[39mcv,\n\u001b[0;32m    726\u001b[0m     n_jobs\u001b[38;5;241m=\u001b[39mn_jobs,\n\u001b[0;32m    727\u001b[0m     verbose\u001b[38;5;241m=\u001b[39mverbose,\n\u001b[0;32m    728\u001b[0m     fit_params\u001b[38;5;241m=\u001b[39mfit_params,\n\u001b[0;32m    729\u001b[0m     params\u001b[38;5;241m=\u001b[39mparams,\n\u001b[0;32m    730\u001b[0m     pre_dispatch\u001b[38;5;241m=\u001b[39mpre_dispatch,\n\u001b[0;32m    731\u001b[0m     error_score\u001b[38;5;241m=\u001b[39merror_score,\n\u001b[0;32m    732\u001b[0m )\n\u001b[0;32m    733\u001b[0m \u001b[38;5;28;01mreturn\u001b[39;00m cv_results[\u001b[38;5;124m\"\u001b[39m\u001b[38;5;124mtest_score\u001b[39m\u001b[38;5;124m\"\u001b[39m]\n",
      "File \u001b[1;32mc:\\Users\\corkr\\anaconda3\\Lib\\site-packages\\sklearn\\utils\\_param_validation.py:213\u001b[0m, in \u001b[0;36mvalidate_params.<locals>.decorator.<locals>.wrapper\u001b[1;34m(*args, **kwargs)\u001b[0m\n\u001b[0;32m    207\u001b[0m \u001b[38;5;28;01mtry\u001b[39;00m:\n\u001b[0;32m    208\u001b[0m     \u001b[38;5;28;01mwith\u001b[39;00m config_context(\n\u001b[0;32m    209\u001b[0m         skip_parameter_validation\u001b[38;5;241m=\u001b[39m(\n\u001b[0;32m    210\u001b[0m             prefer_skip_nested_validation \u001b[38;5;129;01mor\u001b[39;00m global_skip_validation\n\u001b[0;32m    211\u001b[0m         )\n\u001b[0;32m    212\u001b[0m     ):\n\u001b[1;32m--> 213\u001b[0m         \u001b[38;5;28;01mreturn\u001b[39;00m func(\u001b[38;5;241m*\u001b[39margs, \u001b[38;5;241m*\u001b[39m\u001b[38;5;241m*\u001b[39mkwargs)\n\u001b[0;32m    214\u001b[0m \u001b[38;5;28;01mexcept\u001b[39;00m InvalidParameterError \u001b[38;5;28;01mas\u001b[39;00m e:\n\u001b[0;32m    215\u001b[0m     \u001b[38;5;66;03m# When the function is just a wrapper around an estimator, we allow\u001b[39;00m\n\u001b[0;32m    216\u001b[0m     \u001b[38;5;66;03m# the function to delegate validation to the estimator, but we replace\u001b[39;00m\n\u001b[0;32m    217\u001b[0m     \u001b[38;5;66;03m# the name of the estimator by the name of the function in the error\u001b[39;00m\n\u001b[0;32m    218\u001b[0m     \u001b[38;5;66;03m# message to avoid confusion.\u001b[39;00m\n\u001b[0;32m    219\u001b[0m     msg \u001b[38;5;241m=\u001b[39m re\u001b[38;5;241m.\u001b[39msub(\n\u001b[0;32m    220\u001b[0m         \u001b[38;5;124mr\u001b[39m\u001b[38;5;124m\"\u001b[39m\u001b[38;5;124mparameter of \u001b[39m\u001b[38;5;124m\\\u001b[39m\u001b[38;5;124mw+ must be\u001b[39m\u001b[38;5;124m\"\u001b[39m,\n\u001b[0;32m    221\u001b[0m         \u001b[38;5;124mf\u001b[39m\u001b[38;5;124m\"\u001b[39m\u001b[38;5;124mparameter of \u001b[39m\u001b[38;5;132;01m{\u001b[39;00mfunc\u001b[38;5;241m.\u001b[39m\u001b[38;5;18m__qualname__\u001b[39m\u001b[38;5;132;01m}\u001b[39;00m\u001b[38;5;124m must be\u001b[39m\u001b[38;5;124m\"\u001b[39m,\n\u001b[0;32m    222\u001b[0m         \u001b[38;5;28mstr\u001b[39m(e),\n\u001b[0;32m    223\u001b[0m     )\n",
      "File \u001b[1;32mc:\\Users\\corkr\\anaconda3\\Lib\\site-packages\\sklearn\\model_selection\\_validation.py:430\u001b[0m, in \u001b[0;36mcross_validate\u001b[1;34m(estimator, X, y, groups, scoring, cv, n_jobs, verbose, fit_params, params, pre_dispatch, return_train_score, return_estimator, return_indices, error_score)\u001b[0m\n\u001b[0;32m    427\u001b[0m \u001b[38;5;66;03m# We clone the estimator to make sure that all the folds are\u001b[39;00m\n\u001b[0;32m    428\u001b[0m \u001b[38;5;66;03m# independent, and that it is pickle-able.\u001b[39;00m\n\u001b[0;32m    429\u001b[0m parallel \u001b[38;5;241m=\u001b[39m Parallel(n_jobs\u001b[38;5;241m=\u001b[39mn_jobs, verbose\u001b[38;5;241m=\u001b[39mverbose, pre_dispatch\u001b[38;5;241m=\u001b[39mpre_dispatch)\n\u001b[1;32m--> 430\u001b[0m results \u001b[38;5;241m=\u001b[39m parallel(\n\u001b[0;32m    431\u001b[0m     delayed(_fit_and_score)(\n\u001b[0;32m    432\u001b[0m         clone(estimator),\n\u001b[0;32m    433\u001b[0m         X,\n\u001b[0;32m    434\u001b[0m         y,\n\u001b[0;32m    435\u001b[0m         scorer\u001b[38;5;241m=\u001b[39mscorers,\n\u001b[0;32m    436\u001b[0m         train\u001b[38;5;241m=\u001b[39mtrain,\n\u001b[0;32m    437\u001b[0m         test\u001b[38;5;241m=\u001b[39mtest,\n\u001b[0;32m    438\u001b[0m         verbose\u001b[38;5;241m=\u001b[39mverbose,\n\u001b[0;32m    439\u001b[0m         parameters\u001b[38;5;241m=\u001b[39m\u001b[38;5;28;01mNone\u001b[39;00m,\n\u001b[0;32m    440\u001b[0m         fit_params\u001b[38;5;241m=\u001b[39mrouted_params\u001b[38;5;241m.\u001b[39mestimator\u001b[38;5;241m.\u001b[39mfit,\n\u001b[0;32m    441\u001b[0m         score_params\u001b[38;5;241m=\u001b[39mrouted_params\u001b[38;5;241m.\u001b[39mscorer\u001b[38;5;241m.\u001b[39mscore,\n\u001b[0;32m    442\u001b[0m         return_train_score\u001b[38;5;241m=\u001b[39mreturn_train_score,\n\u001b[0;32m    443\u001b[0m         return_times\u001b[38;5;241m=\u001b[39m\u001b[38;5;28;01mTrue\u001b[39;00m,\n\u001b[0;32m    444\u001b[0m         return_estimator\u001b[38;5;241m=\u001b[39mreturn_estimator,\n\u001b[0;32m    445\u001b[0m         error_score\u001b[38;5;241m=\u001b[39merror_score,\n\u001b[0;32m    446\u001b[0m     )\n\u001b[0;32m    447\u001b[0m     \u001b[38;5;28;01mfor\u001b[39;00m train, test \u001b[38;5;129;01min\u001b[39;00m indices\n\u001b[0;32m    448\u001b[0m )\n\u001b[0;32m    450\u001b[0m _warn_or_raise_about_fit_failures(results, error_score)\n\u001b[0;32m    452\u001b[0m \u001b[38;5;66;03m# For callable scoring, the return type is only know after calling. If the\u001b[39;00m\n\u001b[0;32m    453\u001b[0m \u001b[38;5;66;03m# return type is a dictionary, the error scores can now be inserted with\u001b[39;00m\n\u001b[0;32m    454\u001b[0m \u001b[38;5;66;03m# the correct key.\u001b[39;00m\n",
      "File \u001b[1;32mc:\\Users\\corkr\\anaconda3\\Lib\\site-packages\\sklearn\\utils\\parallel.py:67\u001b[0m, in \u001b[0;36mParallel.__call__\u001b[1;34m(self, iterable)\u001b[0m\n\u001b[0;32m     62\u001b[0m config \u001b[38;5;241m=\u001b[39m get_config()\n\u001b[0;32m     63\u001b[0m iterable_with_config \u001b[38;5;241m=\u001b[39m (\n\u001b[0;32m     64\u001b[0m     (_with_config(delayed_func, config), args, kwargs)\n\u001b[0;32m     65\u001b[0m     \u001b[38;5;28;01mfor\u001b[39;00m delayed_func, args, kwargs \u001b[38;5;129;01min\u001b[39;00m iterable\n\u001b[0;32m     66\u001b[0m )\n\u001b[1;32m---> 67\u001b[0m \u001b[38;5;28;01mreturn\u001b[39;00m \u001b[38;5;28msuper\u001b[39m()\u001b[38;5;241m.\u001b[39m\u001b[38;5;21m__call__\u001b[39m(iterable_with_config)\n",
      "File \u001b[1;32mc:\\Users\\corkr\\anaconda3\\Lib\\site-packages\\joblib\\parallel.py:1918\u001b[0m, in \u001b[0;36mParallel.__call__\u001b[1;34m(self, iterable)\u001b[0m\n\u001b[0;32m   1916\u001b[0m     output \u001b[38;5;241m=\u001b[39m \u001b[38;5;28mself\u001b[39m\u001b[38;5;241m.\u001b[39m_get_sequential_output(iterable)\n\u001b[0;32m   1917\u001b[0m     \u001b[38;5;28mnext\u001b[39m(output)\n\u001b[1;32m-> 1918\u001b[0m     \u001b[38;5;28;01mreturn\u001b[39;00m output \u001b[38;5;28;01mif\u001b[39;00m \u001b[38;5;28mself\u001b[39m\u001b[38;5;241m.\u001b[39mreturn_generator \u001b[38;5;28;01melse\u001b[39;00m \u001b[38;5;28mlist\u001b[39m(output)\n\u001b[0;32m   1920\u001b[0m \u001b[38;5;66;03m# Let's create an ID that uniquely identifies the current call. If the\u001b[39;00m\n\u001b[0;32m   1921\u001b[0m \u001b[38;5;66;03m# call is interrupted early and that the same instance is immediately\u001b[39;00m\n\u001b[0;32m   1922\u001b[0m \u001b[38;5;66;03m# re-used, this id will be used to prevent workers that were\u001b[39;00m\n\u001b[0;32m   1923\u001b[0m \u001b[38;5;66;03m# concurrently finalizing a task from the previous call to run the\u001b[39;00m\n\u001b[0;32m   1924\u001b[0m \u001b[38;5;66;03m# callback.\u001b[39;00m\n\u001b[0;32m   1925\u001b[0m \u001b[38;5;28;01mwith\u001b[39;00m \u001b[38;5;28mself\u001b[39m\u001b[38;5;241m.\u001b[39m_lock:\n",
      "File \u001b[1;32mc:\\Users\\corkr\\anaconda3\\Lib\\site-packages\\joblib\\parallel.py:1844\u001b[0m, in \u001b[0;36mParallel._get_sequential_output\u001b[1;34m(self, iterable)\u001b[0m\n\u001b[0;32m   1841\u001b[0m \u001b[38;5;28;01myield\u001b[39;00m \u001b[38;5;28;01mNone\u001b[39;00m\n\u001b[0;32m   1843\u001b[0m \u001b[38;5;66;03m# Sequentially call the tasks and yield the results.\u001b[39;00m\n\u001b[1;32m-> 1844\u001b[0m \u001b[38;5;28;01mfor\u001b[39;00m func, args, kwargs \u001b[38;5;129;01min\u001b[39;00m iterable:\n\u001b[0;32m   1845\u001b[0m     \u001b[38;5;28mself\u001b[39m\u001b[38;5;241m.\u001b[39mn_dispatched_batches \u001b[38;5;241m+\u001b[39m\u001b[38;5;241m=\u001b[39m \u001b[38;5;241m1\u001b[39m\n\u001b[0;32m   1846\u001b[0m     \u001b[38;5;28mself\u001b[39m\u001b[38;5;241m.\u001b[39mn_dispatched_tasks \u001b[38;5;241m+\u001b[39m\u001b[38;5;241m=\u001b[39m \u001b[38;5;241m1\u001b[39m\n",
      "File \u001b[1;32mc:\\Users\\corkr\\anaconda3\\Lib\\site-packages\\sklearn\\utils\\parallel.py:63\u001b[0m, in \u001b[0;36m<genexpr>\u001b[1;34m(.0)\u001b[0m\n\u001b[0;32m     58\u001b[0m \u001b[38;5;66;03m# Capture the thread-local scikit-learn configuration at the time\u001b[39;00m\n\u001b[0;32m     59\u001b[0m \u001b[38;5;66;03m# Parallel.__call__ is issued since the tasks can be dispatched\u001b[39;00m\n\u001b[0;32m     60\u001b[0m \u001b[38;5;66;03m# in a different thread depending on the backend and on the value of\u001b[39;00m\n\u001b[0;32m     61\u001b[0m \u001b[38;5;66;03m# pre_dispatch and n_jobs.\u001b[39;00m\n\u001b[0;32m     62\u001b[0m config \u001b[38;5;241m=\u001b[39m get_config()\n\u001b[1;32m---> 63\u001b[0m iterable_with_config \u001b[38;5;241m=\u001b[39m (\n\u001b[0;32m     64\u001b[0m     (_with_config(delayed_func, config), args, kwargs)\n\u001b[0;32m     65\u001b[0m     \u001b[38;5;28;01mfor\u001b[39;00m delayed_func, args, kwargs \u001b[38;5;129;01min\u001b[39;00m iterable\n\u001b[0;32m     66\u001b[0m )\n\u001b[0;32m     67\u001b[0m \u001b[38;5;28;01mreturn\u001b[39;00m \u001b[38;5;28msuper\u001b[39m()\u001b[38;5;241m.\u001b[39m\u001b[38;5;21m__call__\u001b[39m(iterable_with_config)\n",
      "File \u001b[1;32mc:\\Users\\corkr\\anaconda3\\Lib\\site-packages\\sklearn\\model_selection\\_validation.py:432\u001b[0m, in \u001b[0;36m<genexpr>\u001b[1;34m(.0)\u001b[0m\n\u001b[0;32m    427\u001b[0m \u001b[38;5;66;03m# We clone the estimator to make sure that all the folds are\u001b[39;00m\n\u001b[0;32m    428\u001b[0m \u001b[38;5;66;03m# independent, and that it is pickle-able.\u001b[39;00m\n\u001b[0;32m    429\u001b[0m parallel \u001b[38;5;241m=\u001b[39m Parallel(n_jobs\u001b[38;5;241m=\u001b[39mn_jobs, verbose\u001b[38;5;241m=\u001b[39mverbose, pre_dispatch\u001b[38;5;241m=\u001b[39mpre_dispatch)\n\u001b[0;32m    430\u001b[0m results \u001b[38;5;241m=\u001b[39m parallel(\n\u001b[0;32m    431\u001b[0m     delayed(_fit_and_score)(\n\u001b[1;32m--> 432\u001b[0m         clone(estimator),\n\u001b[0;32m    433\u001b[0m         X,\n\u001b[0;32m    434\u001b[0m         y,\n\u001b[0;32m    435\u001b[0m         scorer\u001b[38;5;241m=\u001b[39mscorers,\n\u001b[0;32m    436\u001b[0m         train\u001b[38;5;241m=\u001b[39mtrain,\n\u001b[0;32m    437\u001b[0m         test\u001b[38;5;241m=\u001b[39mtest,\n\u001b[0;32m    438\u001b[0m         verbose\u001b[38;5;241m=\u001b[39mverbose,\n\u001b[0;32m    439\u001b[0m         parameters\u001b[38;5;241m=\u001b[39m\u001b[38;5;28;01mNone\u001b[39;00m,\n\u001b[0;32m    440\u001b[0m         fit_params\u001b[38;5;241m=\u001b[39mrouted_params\u001b[38;5;241m.\u001b[39mestimator\u001b[38;5;241m.\u001b[39mfit,\n\u001b[0;32m    441\u001b[0m         score_params\u001b[38;5;241m=\u001b[39mrouted_params\u001b[38;5;241m.\u001b[39mscorer\u001b[38;5;241m.\u001b[39mscore,\n\u001b[0;32m    442\u001b[0m         return_train_score\u001b[38;5;241m=\u001b[39mreturn_train_score,\n\u001b[0;32m    443\u001b[0m         return_times\u001b[38;5;241m=\u001b[39m\u001b[38;5;28;01mTrue\u001b[39;00m,\n\u001b[0;32m    444\u001b[0m         return_estimator\u001b[38;5;241m=\u001b[39mreturn_estimator,\n\u001b[0;32m    445\u001b[0m         error_score\u001b[38;5;241m=\u001b[39merror_score,\n\u001b[0;32m    446\u001b[0m     )\n\u001b[0;32m    447\u001b[0m     \u001b[38;5;28;01mfor\u001b[39;00m train, test \u001b[38;5;129;01min\u001b[39;00m indices\n\u001b[0;32m    448\u001b[0m )\n\u001b[0;32m    450\u001b[0m _warn_or_raise_about_fit_failures(results, error_score)\n\u001b[0;32m    452\u001b[0m \u001b[38;5;66;03m# For callable scoring, the return type is only know after calling. If the\u001b[39;00m\n\u001b[0;32m    453\u001b[0m \u001b[38;5;66;03m# return type is a dictionary, the error scores can now be inserted with\u001b[39;00m\n\u001b[0;32m    454\u001b[0m \u001b[38;5;66;03m# the correct key.\u001b[39;00m\n",
      "File \u001b[1;32mc:\\Users\\corkr\\anaconda3\\Lib\\site-packages\\sklearn\\base.py:91\u001b[0m, in \u001b[0;36mclone\u001b[1;34m(estimator, safe)\u001b[0m\n\u001b[0;32m     89\u001b[0m \u001b[38;5;28;01mif\u001b[39;00m \u001b[38;5;28mhasattr\u001b[39m(estimator, \u001b[38;5;124m\"\u001b[39m\u001b[38;5;124m__sklearn_clone__\u001b[39m\u001b[38;5;124m\"\u001b[39m) \u001b[38;5;129;01mand\u001b[39;00m \u001b[38;5;129;01mnot\u001b[39;00m inspect\u001b[38;5;241m.\u001b[39misclass(estimator):\n\u001b[0;32m     90\u001b[0m     \u001b[38;5;28;01mreturn\u001b[39;00m estimator\u001b[38;5;241m.\u001b[39m__sklearn_clone__()\n\u001b[1;32m---> 91\u001b[0m \u001b[38;5;28;01mreturn\u001b[39;00m _clone_parametrized(estimator, safe\u001b[38;5;241m=\u001b[39msafe)\n",
      "File \u001b[1;32mc:\\Users\\corkr\\anaconda3\\Lib\\site-packages\\sklearn\\base.py:113\u001b[0m, in \u001b[0;36m_clone_parametrized\u001b[1;34m(estimator, safe)\u001b[0m\n\u001b[0;32m    107\u001b[0m             \u001b[38;5;28;01mraise\u001b[39;00m \u001b[38;5;167;01mTypeError\u001b[39;00m(\n\u001b[0;32m    108\u001b[0m                 \u001b[38;5;124m\"\u001b[39m\u001b[38;5;124mCannot clone object. \u001b[39m\u001b[38;5;124m\"\u001b[39m\n\u001b[0;32m    109\u001b[0m                 \u001b[38;5;241m+\u001b[39m \u001b[38;5;124m\"\u001b[39m\u001b[38;5;124mYou should provide an instance of \u001b[39m\u001b[38;5;124m\"\u001b[39m\n\u001b[0;32m    110\u001b[0m                 \u001b[38;5;241m+\u001b[39m \u001b[38;5;124m\"\u001b[39m\u001b[38;5;124mscikit-learn estimator instead of a class.\u001b[39m\u001b[38;5;124m\"\u001b[39m\n\u001b[0;32m    111\u001b[0m             )\n\u001b[0;32m    112\u001b[0m         \u001b[38;5;28;01melse\u001b[39;00m:\n\u001b[1;32m--> 113\u001b[0m             \u001b[38;5;28;01mraise\u001b[39;00m \u001b[38;5;167;01mTypeError\u001b[39;00m(\n\u001b[0;32m    114\u001b[0m                 \u001b[38;5;124m\"\u001b[39m\u001b[38;5;124mCannot clone object \u001b[39m\u001b[38;5;124m'\u001b[39m\u001b[38;5;132;01m%s\u001b[39;00m\u001b[38;5;124m'\u001b[39m\u001b[38;5;124m (type \u001b[39m\u001b[38;5;132;01m%s\u001b[39;00m\u001b[38;5;124m): \u001b[39m\u001b[38;5;124m\"\u001b[39m\n\u001b[0;32m    115\u001b[0m                 \u001b[38;5;124m\"\u001b[39m\u001b[38;5;124mit does not seem to be a scikit-learn \u001b[39m\u001b[38;5;124m\"\u001b[39m\n\u001b[0;32m    116\u001b[0m                 \u001b[38;5;124m\"\u001b[39m\u001b[38;5;124mestimator as it does not implement a \u001b[39m\u001b[38;5;124m\"\u001b[39m\n\u001b[0;32m    117\u001b[0m                 \u001b[38;5;124m\"\u001b[39m\u001b[38;5;124m'\u001b[39m\u001b[38;5;124mget_params\u001b[39m\u001b[38;5;124m'\u001b[39m\u001b[38;5;124m method.\u001b[39m\u001b[38;5;124m\"\u001b[39m \u001b[38;5;241m%\u001b[39m (\u001b[38;5;28mrepr\u001b[39m(estimator), \u001b[38;5;28mtype\u001b[39m(estimator))\n\u001b[0;32m    118\u001b[0m             )\n\u001b[0;32m    120\u001b[0m klass \u001b[38;5;241m=\u001b[39m estimator\u001b[38;5;241m.\u001b[39m\u001b[38;5;18m__class__\u001b[39m\n\u001b[0;32m    121\u001b[0m new_object_params \u001b[38;5;241m=\u001b[39m estimator\u001b[38;5;241m.\u001b[39mget_params(deep\u001b[38;5;241m=\u001b[39m\u001b[38;5;28;01mFalse\u001b[39;00m)\n",
      "\u001b[1;31mTypeError\u001b[0m: Cannot clone object '<statsmodels.discrete.discrete_model.MNLogit object at 0x0000029D87ED7BF0>' (type <class 'statsmodels.discrete.discrete_model.MNLogit'>): it does not seem to be a scikit-learn estimator as it does not implement a 'get_params' method."
     ]
    }
   ],
   "source": [
    "# Cross validation\n",
    "from sklearn.model_selection import cross_val_score\n",
    "from sklearn.model_selection import StratifiedKFold\n",
    "from sklearn.model_selection import KFold\n",
    "import statsmodels.api as sm\n",
    "\n",
    "# Recreate the logistic regression model\n",
    "logistic_model = sm.MNLogit(y_train, sm.add_constant(x_train))\n",
    "\n",
    "kfold = KFold(n_splits=5, random_state=1, shuffle=True)\n",
    "results = cross_val_score(logistic_model, sm.add_constant(x_train), y_train, cv=kfold)\n",
    "print(f\"Logistic Regression: {results.mean():.4f} ({results.std():.4f})\")\n",
    "\n",
    "Evaluation"
   ]
  },
  {
   "cell_type": "code",
   "execution_count": null,
   "metadata": {},
   "outputs": [],
   "source": [
    "import numpy as np\n",
    "import statsmodels.api as sm\n",
    "from sklearn.model_selection import KFold\n",
    "from sklearn.metrics import accuracy_score\n",
    "\n",
    "# Define K-Fold Cross-Validation\n",
    "kf = KFold(n_splits=5, shuffle=True, random_state=42)\n",
    "\n",
    "# Store cross-validation accuracy scores\n",
    "cv_scores = []\n",
    "\n",
    "# Perform K-Fold CV\n",
    "for train_idx, test_idx in kf.split(x_train):\n",
    "    X_train_fold, X_test_fold = x_train.iloc[train_idx], x_train.iloc[test_idx]\n",
    "    y_train_fold, y_test_fold = y_train.iloc[train_idx], y_train.iloc[test_idx]\n",
    "\n",
    "    # Add constant (intercept) term\n",
    "    X_train_fold = sm.add_constant(X_train_fold)\n",
    "    X_test_fold = sm.add_constant(X_test_fold)\n",
    "\n",
    "    # Fit Multinomial Logistic Regression\n",
    "    model = sm.MNLogit(y_train_fold, X_train_fold)\n",
    "    result = model.fit(disp=0)  # Suppress verbose output\n",
    "\n",
    "    # Make predictions (class with highest probability)\n",
    "    y_pred_probs = result.predict(X_test_fold)\n",
    "    y_pred = np.argmax(y_pred_probs.values, axis=1)\n",
    "\n",
    "    # Compute accuracy\n",
    "    accuracy = accuracy_score(y_test_fold, y_pred)\n",
    "    cv_scores.append(accuracy)\n",
    "\n",
    "# Display results\n",
    "print(f\"Cross-Validation Accuracy Scores: {cv_scores}\")\n",
    "print(f\"Mean Accuracy: {np.mean(cv_scores):.4f}\")\n",
    "print(f\"Standard Deviation: {np.std(cv_scores):.4f}\")\n"
   ]
  },
  {
   "cell_type": "code",
   "execution_count": null,
   "metadata": {},
   "outputs": [
    {
     "name": "stdout",
     "output_type": "stream",
     "text": [
      "Gradient Boosting: 0.8495 (0.0011)\n",
      "Random Forest: 0.8490 (0.0009)\n"
     ]
    },
    {
     "ename": "NameError",
     "evalue": "name 'BaggingClassifier' is not defined",
     "output_type": "error",
     "traceback": [
      "\u001b[1;31m---------------------------------------------------------------------------\u001b[0m",
      "\u001b[1;31mNameError\u001b[0m                                 Traceback (most recent call last)",
      "Cell \u001b[1;32mIn[106], line 23\u001b[0m\n\u001b[0;32m     20\u001b[0m results \u001b[38;5;241m=\u001b[39m cross_val_score(rf_clf, x_train, y_train, cv\u001b[38;5;241m=\u001b[39mkfold)\n\u001b[0;32m     21\u001b[0m \u001b[38;5;28mprint\u001b[39m(\u001b[38;5;124mf\u001b[39m\u001b[38;5;124m\"\u001b[39m\u001b[38;5;124mRandom Forest: \u001b[39m\u001b[38;5;132;01m{\u001b[39;00mresults\u001b[38;5;241m.\u001b[39mmean()\u001b[38;5;132;01m:\u001b[39;00m\u001b[38;5;124m.4f\u001b[39m\u001b[38;5;132;01m}\u001b[39;00m\u001b[38;5;124m (\u001b[39m\u001b[38;5;132;01m{\u001b[39;00mresults\u001b[38;5;241m.\u001b[39mstd()\u001b[38;5;132;01m:\u001b[39;00m\u001b[38;5;124m.4f\u001b[39m\u001b[38;5;132;01m}\u001b[39;00m\u001b[38;5;124m)\u001b[39m\u001b[38;5;124m\"\u001b[39m)\n\u001b[1;32m---> 23\u001b[0m bagging_clf \u001b[38;5;241m=\u001b[39m BaggingClassifier(\n\u001b[0;32m     24\u001b[0m     n_estimators\u001b[38;5;241m=\u001b[39m\u001b[38;5;241m50\u001b[39m,      \n\u001b[0;32m     25\u001b[0m     max_samples\u001b[38;5;241m=\u001b[39m\u001b[38;5;241m0.6\u001b[39m,      \n\u001b[0;32m     26\u001b[0m     max_features\u001b[38;5;241m=\u001b[39m\u001b[38;5;241m0.7\u001b[39m,     \n\u001b[0;32m     27\u001b[0m     random_state\u001b[38;5;241m=\u001b[39m\u001b[38;5;241m1\u001b[39m\n\u001b[0;32m     28\u001b[0m )\n\u001b[0;32m     29\u001b[0m results \u001b[38;5;241m=\u001b[39m cross_val_score(bagging_clf, x_train, y_train, cv\u001b[38;5;241m=\u001b[39mkfold)\n\u001b[0;32m     30\u001b[0m \u001b[38;5;28mprint\u001b[39m(\u001b[38;5;124mf\u001b[39m\u001b[38;5;124m\"\u001b[39m\u001b[38;5;124mBagging: \u001b[39m\u001b[38;5;132;01m{\u001b[39;00mresults\u001b[38;5;241m.\u001b[39mmean()\u001b[38;5;132;01m:\u001b[39;00m\u001b[38;5;124m.4f\u001b[39m\u001b[38;5;132;01m}\u001b[39;00m\u001b[38;5;124m (\u001b[39m\u001b[38;5;132;01m{\u001b[39;00mresults\u001b[38;5;241m.\u001b[39mstd()\u001b[38;5;132;01m:\u001b[39;00m\u001b[38;5;124m.4f\u001b[39m\u001b[38;5;132;01m}\u001b[39;00m\u001b[38;5;124m)\u001b[39m\u001b[38;5;124m\"\u001b[39m)\n",
      "\u001b[1;31mNameError\u001b[0m: name 'BaggingClassifier' is not defined"
     ]
    }
   ],
   "source": [
    "\n",
    "gradb_clf = GradientBoostingClassifier( \n",
    "    n_estimators=150,    \n",
    "    learning_rate=0.15282284281410227,   \n",
    "    max_depth=3,  \n",
    "    subsample= 0.5515004512119388,\n",
    "          \n",
    "    random_state=1\n",
    "    )\n",
    "results = cross_val_score(gradb_clf, x_train, y_train, cv=kfold)\n",
    "print(f\"Gradient Boosting: {results.mean():.4f} ({results.std():.4f})\")\n",
    "\n",
    "rf_clf = RandomForestClassifier(\n",
    "    n_estimators=200,      \n",
    "    min_samples_split=5,   \n",
    "    min_samples_leaf=4,    \n",
    "    max_depth=30,          \n",
    "    bootstrap=True,        \n",
    "    random_state=1\n",
    ")\n",
    "results = cross_val_score(rf_clf, x_train, y_train, cv=kfold)\n",
    "print(f\"Random Forest: {results.mean():.4f} ({results.std():.4f})\")\n"
   ]
  },
  {
   "cell_type": "code",
   "execution_count": 108,
   "metadata": {},
   "outputs": [
    {
     "name": "stdout",
     "output_type": "stream",
     "text": [
      "Bagging: 0.8458 (0.0006)\n"
     ]
    }
   ],
   "source": [
    "\n",
    "from sklearn.ensemble import BaggingClassifier\n",
    "\n",
    "bagging_clf = BaggingClassifier(\n",
    "    n_estimators=50,      \n",
    "    max_samples=0.6,      \n",
    "    max_features=0.7,     \n",
    "    random_state=1\n",
    ")\n",
    "results = cross_val_score(bagging_clf, x_train, y_train, cv=kfold)\n",
    "print(f\"Bagging: {results.mean():.4f} ({results.std():.4f})\")"
   ]
  },
  {
   "cell_type": "code",
   "execution_count": null,
   "metadata": {},
   "outputs": [],
   "source": []
  },
  {
   "cell_type": "markdown",
   "metadata": {},
   "source": [
    "## Results"
   ]
  },
  {
   "cell_type": "code",
   "execution_count": 113,
   "metadata": {},
   "outputs": [
    {
     "data": {
      "text/html": [
       "<div>\n",
       "<style scoped>\n",
       "    .dataframe tbody tr th:only-of-type {\n",
       "        vertical-align: middle;\n",
       "    }\n",
       "\n",
       "    .dataframe tbody tr th {\n",
       "        vertical-align: top;\n",
       "    }\n",
       "\n",
       "    .dataframe thead th {\n",
       "        text-align: right;\n",
       "    }\n",
       "</style>\n",
       "<table border=\"1\" class=\"dataframe\">\n",
       "  <thead>\n",
       "    <tr style=\"text-align: right;\">\n",
       "      <th></th>\n",
       "      <th>Model</th>\n",
       "      <th>Accuracy</th>\n",
       "      <th>no diabetes f1 score</th>\n",
       "      <th>prediabetes f1 score</th>\n",
       "      <th>diabetes f1 score</th>\n",
       "    </tr>\n",
       "  </thead>\n",
       "  <tbody>\n",
       "    <tr>\n",
       "      <th>0</th>\n",
       "      <td>Logistic Regression</td>\n",
       "      <td>0.640163</td>\n",
       "      <td>0.777336</td>\n",
       "      <td>0.051869</td>\n",
       "      <td>0.440813</td>\n",
       "    </tr>\n",
       "    <tr>\n",
       "      <th>1</th>\n",
       "      <td>Logistic Regression</td>\n",
       "      <td>0.642660</td>\n",
       "      <td>0.778082</td>\n",
       "      <td>0.055530</td>\n",
       "      <td>0.444058</td>\n",
       "    </tr>\n",
       "  </tbody>\n",
       "</table>\n",
       "</div>"
      ],
      "text/plain": [
       "                 Model  Accuracy  no diabetes f1 score  prediabetes f1 score  \\\n",
       "0  Logistic Regression  0.640163              0.777336              0.051869   \n",
       "1  Logistic Regression  0.642660              0.778082              0.055530   \n",
       "\n",
       "   diabetes f1 score  \n",
       "0           0.440813  \n",
       "1           0.444058  "
      ]
     },
     "execution_count": 113,
     "metadata": {},
     "output_type": "execute_result"
    }
   ],
   "source": [
    "Evaluation"
   ]
  },
  {
   "cell_type": "markdown",
   "metadata": {},
   "source": [
    "## Conclusion"
   ]
  },
  {
   "cell_type": "code",
   "execution_count": 3,
   "metadata": {},
   "outputs": [
    {
     "name": "stdout",
     "output_type": "stream",
     "text": [
      "The dataset includes 22 variables:\n",
      "- 0 nominal variables\n",
      "- 14 binary variables\n",
      "- 8 continuous variables\n"
     ]
    }
   ],
   "source": [
    "import pandas as pd\n",
    "\n",
    "# Load dataset (replace 'diabetes.csv' with your actual dataset file)\n",
    "data = pd.read_csv(\"diabetes_012.csv\")  \n",
    "\n",
    "# Identify column types\n",
    "num_vars = data.select_dtypes(include=['float64', 'int64']).columns.tolist()  # Continuous\n",
    "cat_vars = data.select_dtypes(include=['object']).columns.tolist()  # Categorical/Nominal\n",
    "binary_vars = [col for col in num_vars if data[col].nunique() == 2]  # Binary\n",
    "\n",
    "# Continuous variables exclude binary ones\n",
    "cont_vars = [col for col in num_vars if col not in binary_vars]\n",
    "\n",
    "# Display results\n",
    "print(f\"The dataset includes {len(data.columns)} variables:\")\n",
    "print(f\"- {len(cat_vars)} nominal variables\")\n",
    "print(f\"- {len(binary_vars)} binary variables\")\n",
    "print(f\"- {len(cont_vars)} continuous variables\")\n"
   ]
  }
 ],
 "metadata": {
  "kernelspec": {
   "display_name": "base",
   "language": "python",
   "name": "python3"
  },
  "language_info": {
   "codemirror_mode": {
    "name": "ipython",
    "version": 3
   },
   "file_extension": ".py",
   "mimetype": "text/x-python",
   "name": "python",
   "nbconvert_exporter": "python",
   "pygments_lexer": "ipython3",
   "version": "3.12.3"
  }
 },
 "nbformat": 4,
 "nbformat_minor": 2
}
